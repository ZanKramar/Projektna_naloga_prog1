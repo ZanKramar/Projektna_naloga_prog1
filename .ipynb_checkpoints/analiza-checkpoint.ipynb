{
 "cells": [
  {
   "cell_type": "markdown",
   "metadata": {},
   "source": [
    "# Analiza video iger"
   ]
  },
  {
   "cell_type": "markdown",
   "metadata": {},
   "source": [
    "![valve](valve.png)"
   ]
  },
  {
   "cell_type": "markdown",
   "metadata": {},
   "source": [
    "V svoji projektni nalogi bom analiziral 15219 najboljših iger glede na Metascore. Izločiti sem moral nekaj iger, katere niso imele kaksne ocene ali podatka. "
   ]
  },
  {
   "cell_type": "code",
   "execution_count": 80,
   "metadata": {},
   "outputs": [],
   "source": [
    "import pandas as pd\n",
    "import matplotlib.pyplot as plt\n",
    "%matplotlib inline\n",
    "from datetime import datetime\n",
    "igre = pd.read_csv('csvji/podatki.csv', index_col='stevilka')\n",
    "ocene = pd.read_json(\"jsoni/ocene.json\")\n",
    "nekaj = pd.read_csv('csvji/igre.csv')\n",
    "igre['Metascore'] = ocene['Metascore']\n",
    "igre['Ocena uporabnikov'] = ocene['ocena_uporabnikov']\n",
    "igre['ESBR'] = nekaj['esbr']\n",
    "igre['Založnik'] = nekaj['Zaloznik']\n",
    "igre['1.žanr'] = nekaj['zanr1']\n",
    "igre['2.žanr'] = nekaj['zanr2']\n",
    "igre['Založnik'] = igre['Založnik'].replace('Electronic', 'EA')\n",
    "igre['Založnik'] = igre['Založnik'].replace('Intelligent', 'Intelligent Systems')\n",
    "igre['Založnik'] = igre['Založnik'].replace('Q', 'Q Entertainment')\n",
    "zamenjaj = {'pc':'PC', 'nintendo-64':'Nintendo 64', 'playstation':'Playstation', 'playstation-3':'Playstation 3', 'dreamcast':'Dreamcast', \n",
    "           'xbox-360':'Xbox 360', 'wii':'Wii', 'switch':'Switch', 'playstation-2':'Playstation 2', 'playstation-4':'Playstation 4', \n",
    "           'gamecube':'Gamecube','xbox':'Xbox', 'wii-u':'Wii U', 'game-boy-advance':'Game Boy Advance', '3ds':'Nintendo 3DS','ds':'Nintendo DS',\n",
    "           'playstation-vita':'Playstation Vita', 'psp':'PSP', 'xbox-one':'Xbox One'}\n",
    "igre = igre.replace({'konzola':zamenjaj})\n",
    "\n",
    "igre = igre[:16500]\n",
    "igre['Metascore'] = pd.to_numeric(igre['Metascore'], errors='coerce')\n",
    "igre['Ocena uporabnikov'] = pd.to_numeric(igre['Ocena uporabnikov'], errors='coerce')\n",
    "igre['Skupna ocena'] = (igre['Metascore'] + igre['Ocena uporabnikov']*10)/2\n",
    "igre['Datum izdaje'] = pd.to_datetime(igre['Datum_izdaje'])\n",
    "igre = igre.drop(['Datum_izdaje', 'url_do_igre'], axis=1)\n",
    "igre = igre[pd.to_numeric(igre['Ocena uporabnikov'], errors='coerce').notnull()]\n"
   ]
  },
  {
   "cell_type": "code",
   "execution_count": 88,
   "metadata": {},
   "outputs": [
    {
     "data": {
      "text/plain": [
       "<matplotlib.axes._subplots.AxesSubplot at 0x17738570>"
      ]
     },
     "execution_count": 88,
     "metadata": {},
     "output_type": "execute_result"
    },
    {
     "data": {
      "image/png": "[encoded data removed]",
      "text/plain": [
       "<Figure size 432x288 with 1 Axes>"
      ]
     },
     "metadata": {
      "needs_background": "light"
     },
     "output_type": "display_data"
    }
   ],
   "source": [
    "konzole = igre.groupby('konzola').size()\n",
    "konzole.plot.bar()"
   ]
  },
  {
   "cell_type": "markdown",
   "metadata": {},
   "source": [
    "Iz grafa se vidi, da je največ iger bilo izdanih za PC, ker je to največji trg za video igre. "
   ]
  },
  {
   "cell_type": "code",
   "execution_count": 78,
   "metadata": {},
   "outputs": [
    {
     "data": {
      "text/plain": [
       "<matplotlib.axes._subplots.AxesSubplot at 0x5f02d90>"
      ]
     },
     "execution_count": 78,
     "metadata": {},
     "output_type": "execute_result"
    },
    {
     "data": {
      "image/png": "[encoded data removed]",
      "text/plain": [
       "<Figure size 432x288 with 1 Axes>"
      ]
     },
     "metadata": {
      "needs_background": "light"
     },
     "output_type": "display_data"
    }
   ],
   "source": [
    "igre['Metascore'].hist()"
   ]
  },
  {
   "cell_type": "markdown",
   "metadata": {},
   "source": [
    "V zgornjem histogramu je prikazana porazdelitev ocen iger glede na Metascore, ki zaradi velikega števila elementov spominja na Gaussovo porazdelitev. Podobno je v spodnjem grafu, ki je histogram porazdelitve ocen uporabnikov.\n"
   ]
  },
  {
   "cell_type": "code",
   "execution_count": 44,
   "metadata": {},
   "outputs": [
    {
     "data": {
      "text/plain": [
       "<matplotlib.axes._subplots.AxesSubplot at 0x5df4c90>"
      ]
     },
     "execution_count": 44,
     "metadata": {},
     "output_type": "execute_result"
    },
    {
     "data": {
      "image/png": "[encoded data removed]",
      "text/plain": [
       "<Figure size 432x288 with 1 Axes>"
      ]
     },
     "metadata": {
      "needs_background": "light"
     },
     "output_type": "display_data"
    }
   ],
   "source": [
    "zmnozek = igre['Ocena uporabnikov']*10\n",
    "zmnozek.hist()\n"
   ]
  },
  {
   "cell_type": "code",
   "execution_count": 82,
   "metadata": {},
   "outputs": [
    {
     "data": {
      "text/html": [
       "<div>\n",
       "<style scoped>\n",
       "    .dataframe tbody tr th:only-of-type {\n",
       "        vertical-align: middle;\n",
       "    }\n",
       "\n",
       "    .dataframe tbody tr th {\n",
       "        vertical-align: top;\n",
       "    }\n",
       "\n",
       "    .dataframe thead th {\n",
       "        text-align: right;\n",
       "    }\n",
       "</style>\n",
       "<table border=\"1\" class=\"dataframe\">\n",
       "  <thead>\n",
       "    <tr style=\"text-align: right;\">\n",
       "      <th></th>\n",
       "      <th>Metascore</th>\n",
       "      <th>Ocena uporabnikov</th>\n",
       "      <th>Skupna ocena</th>\n",
       "    </tr>\n",
       "  </thead>\n",
       "  <tbody>\n",
       "    <tr>\n",
       "      <td>count</td>\n",
       "      <td>15219.000000</td>\n",
       "      <td>15219.000000</td>\n",
       "      <td>15219.000000</td>\n",
       "    </tr>\n",
       "    <tr>\n",
       "      <td>mean</td>\n",
       "      <td>71.635127</td>\n",
       "      <td>7.066010</td>\n",
       "      <td>71.147612</td>\n",
       "    </tr>\n",
       "    <tr>\n",
       "      <td>std</td>\n",
       "      <td>11.471074</td>\n",
       "      <td>1.307092</td>\n",
       "      <td>10.599036</td>\n",
       "    </tr>\n",
       "    <tr>\n",
       "      <td>min</td>\n",
       "      <td>38.000000</td>\n",
       "      <td>0.700000</td>\n",
       "      <td>25.500000</td>\n",
       "    </tr>\n",
       "    <tr>\n",
       "      <td>25%</td>\n",
       "      <td>65.000000</td>\n",
       "      <td>6.400000</td>\n",
       "      <td>65.000000</td>\n",
       "    </tr>\n",
       "    <tr>\n",
       "      <td>50%</td>\n",
       "      <td>73.000000</td>\n",
       "      <td>7.300000</td>\n",
       "      <td>72.500000</td>\n",
       "    </tr>\n",
       "    <tr>\n",
       "      <td>75%</td>\n",
       "      <td>80.000000</td>\n",
       "      <td>8.000000</td>\n",
       "      <td>79.000000</td>\n",
       "    </tr>\n",
       "    <tr>\n",
       "      <td>max</td>\n",
       "      <td>98.000000</td>\n",
       "      <td>9.400000</td>\n",
       "      <td>94.500000</td>\n",
       "    </tr>\n",
       "  </tbody>\n",
       "</table>\n",
       "</div>"
      ],
      "text/plain": [
       "          Metascore  Ocena uporabnikov  Skupna ocena\n",
       "count  15219.000000       15219.000000  15219.000000\n",
       "mean      71.635127           7.066010     71.147612\n",
       "std       11.471074           1.307092     10.599036\n",
       "min       38.000000           0.700000     25.500000\n",
       "25%       65.000000           6.400000     65.000000\n",
       "50%       73.000000           7.300000     72.500000\n",
       "75%       80.000000           8.000000     79.000000\n",
       "max       98.000000           9.400000     94.500000"
      ]
     },
     "execution_count": 82,
     "metadata": {},
     "output_type": "execute_result"
    }
   ],
   "source": [
    "igre.describe(percentiles=[.25, .5, .75])\n"
   ]
  },
  {
   "cell_type": "code",
   "execution_count": 95,
   "metadata": {},
   "outputs": [
    {
     "ename": "SyntaxError",
     "evalue": "invalid syntax (<ipython-input-95-2b6d6fc4103b>, line 1)",
     "output_type": "error",
     "traceback": [
      "\u001b[1;36m  File \u001b[1;32m\"<ipython-input-95-2b6d6fc4103b>\"\u001b[1;36m, line \u001b[1;32m1\u001b[0m\n\u001b[1;33m    Tabela prikazuje povprečja, popvrečno odstopanje od povprečja in kvantile posamezne kategorije, po kateri se je ocenjevalo igre. Za nadaljne izračune sem oceno uprabnikov pomožil z deset, za lažje primerjanje z oceno metascora.\u001b[0m\n\u001b[1;37m                   ^\u001b[0m\n\u001b[1;31mSyntaxError\u001b[0m\u001b[1;31m:\u001b[0m invalid syntax\n"
     ]
    }
   ],
   "source": [
    "Tabela prikazuje povprečja, popvrečno odstopanje od povprečja in kvantile posamezne kategorije, po kateri se je ocenjevalo igre. Za nadaljne izračune sem oceno uprabnikov pomožil z deset, za lažje primerjanje z oceno metascora."
   ]
  },
  {
   "cell_type": "code",
   "execution_count": 96,
   "metadata": {},
   "outputs": [
    {
     "data": {
      "text/plain": [
       "<matplotlib.axes._subplots.AxesSubplot at 0x5eddd50>"
      ]
     },
     "execution_count": 96,
     "metadata": {},
     "output_type": "execute_result"
    },
    {
     "data": {
      "image/png": "[encoded data removed]",
      "text/plain": [
       "<Figure size 432x288 with 1 Axes>"
      ]
     },
     "metadata": {},
     "output_type": "display_data"
    }
   ],
   "source": [
    "igre.groupby('ESBR').size().plot.pie(autopct='%1.0f%%', pctdistance=1.1, labeldistance=1.4, title='ESBR')"
   ]
  },
  {
   "cell_type": "markdown",
   "metadata": {},
   "source": [
    "Tortni diagram predstavlja deleže iger, ocenjene s posamično ESBR oceno. ESBR ocena je primernost igre za določeno starostno skupino, podobno kot to poznamo iz filmske industrije.\n",
    "Z oznako E so označene igre, ki so primerne za vse starosti, T je za najstnike, M je za osebe, starejše od 17 let in AO za starejše od 18 let."
   ]
  },
  {
   "cell_type": "code",
   "execution_count": 86,
   "metadata": {},
   "outputs": [
    {
     "data": {
      "text/plain": [
       "<matplotlib.axes._subplots.AxesSubplot at 0x4d47c50>"
      ]
     },
     "execution_count": 86,
     "metadata": {},
     "output_type": "execute_result"
    },
    {
     "data": {
      "image/png": "[encoded data removed]",
      "text/plain": [
       "<Figure size 432x288 with 1 Axes>"
      ]
     },
     "metadata": {
      "needs_background": "light"
     },
     "output_type": "display_data"
    }
   ],
   "source": [
    "vsota1 =  igre.groupby(['1.žanr']).size().drop(labels=['3D', '2D', 'General', 'Modern', 'Arcade', 'Compilation'])\n",
    "vsota2 = igre.groupby(['2.žanr']).size().drop(labels=['3D', '2D', 'General', 'Modern', 'Arcade', 'Compilation'])\n",
    "vsota = vsota2.add(vsota1, fill_value=0)\n",
    "vsota[vsota>300].plot.bar()"
   ]
  },
  {
   "cell_type": "markdown",
   "metadata": {},
   "source": [
    "V grafu je je predstavljeno število iger, ki spadajo pod določen žanr. Iz grafa sem izločil nesmiselne žanre, kot so 3D, splošno ipd.\n"
   ]
  },
  {
   "cell_type": "code",
   "execution_count": 83,
   "metadata": {},
   "outputs": [
    {
     "data": {
      "text/plain": [
       "<matplotlib.axes._subplots.AxesSubplot at 0x170b5230>"
      ]
     },
     "execution_count": 83,
     "metadata": {},
     "output_type": "execute_result"
    },
    {
     "data": {
      "image/png": "[encoded data removed]",
      "text/plain": [
       "<Figure size 432x288 with 1 Axes>"
      ]
     },
     "metadata": {
      "needs_background": "light"
     },
     "output_type": "display_data"
    }
   ],
   "source": [
    "vsotaa = vsota/15219\n",
    "vsotaa[vsotaa > 0.02].plot.bar()"
   ]
  },
  {
   "cell_type": "code",
   "execution_count": 49,
   "metadata": {},
   "outputs": [
    {
     "data": {
      "text/plain": [
       "<matplotlib.axes._subplots.AxesSubplot at 0x10f2c30>"
      ]
     },
     "execution_count": 49,
     "metadata": {},
     "output_type": "execute_result"
    },
    {
     "data": {
      "image/png": "[encoded data removed]",
      "text/plain": [
       "<Figure size 432x288 with 1 Axes>"
      ]
     },
     "metadata": {
      "needs_background": "light"
     },
     "output_type": "display_data"
    }
   ],
   "source": [
    "top200meta = igre[:200]\n",
    "top200meta\n",
    "\n",
    "vsota1 =  top200meta.groupby(['1.žanr']).size()\n",
    "vsota2 = top200meta.groupby(['2.žanr']).size()\n",
    "vsota = vsota2.add(vsota1, fill_value=0)\n",
    "vsota = vsota/200\n",
    "vsota[vsota>0.05].drop(labels=['3D', '2D', 'General', 'Modern']).plot.bar()"
   ]
  },
  {
   "cell_type": "code",
   "execution_count": 50,
   "metadata": {
    "scrolled": true
   },
   "outputs": [
    {
     "data": {
      "text/plain": [
       "<matplotlib.axes._subplots.AxesSubplot at 0x4cbb7d0>"
      ]
     },
     "execution_count": 50,
     "metadata": {},
     "output_type": "execute_result"
    },
    {
     "data": {
      "image/png": "[encoded data removed]",
      "text/plain": [
       "<Figure size 432x288 with 1 Axes>"
      ]
     },
     "metadata": {
      "needs_background": "light"
     },
     "output_type": "display_data"
    }
   ],
   "source": [
    "top200spl = igre.sort_values('Skupna ocena',ascending=False)[:200]\n",
    "vsota1 =  top200spl.groupby(['1.žanr']).size()\n",
    "vsota2 = top200spl.groupby(['2.žanr']).size()\n",
    "vsota = vsota2.add(vsota1, fill_value=0)\n",
    "vsota = vsota/200\n",
    "vsota[vsota>0.02].drop(labels=['3D', '2D', 'General', 'Modern']).plot.bar()"
   ]
  },
  {
   "cell_type": "markdown",
   "metadata": {},
   "source": [
    "V zgornjih grafih so najprej prikazani deleži žanrov po vseh igrah, nato deleži žanrov v dvesto najbolje ocenjenih igrah glede na metascore.\n",
    "V zadnjem grafu so predstavljeni deleži žanrov v dvesto najbolje ocenjenih igrah glede na oceno uporabnikov. Splošni deleži in deleži v zadnjem grafu so siu precej podobni, kar pomeni da na oceno uporabnikov žanri igre ni imel vpliva, med tem ko izgleda \n",
    "da je na oceno metascora vplival žanr, saj je v najboljših igrah kar 10 odstotkov več akcijskih iger kot v splošnem. "
   ]
  },
  {
   "cell_type": "code",
   "execution_count": 71,
   "metadata": {},
   "outputs": [
    {
     "data": {
      "text/plain": [
       "1.7182988961222756"
      ]
     },
     "execution_count": 71,
     "metadata": {},
     "output_type": "execute_result"
    },
    {
     "data": {
      "image/png": "[encoded data removed]",
      "text/plain": [
       "<Figure size 432x288 with 1 Axes>"
      ]
     },
     "metadata": {
      "needs_background": "light"
     },
     "output_type": "display_data"
    }
   ],
   "source": [
    "igre['Razlika'] = igre['Metascore'] - igre['Ocena uporabnikov']*10\n",
    "def razlika_ocen (k):\n",
    "    return igre['Razlika'][:k].mean()\n",
    "\n",
    "x = []\n",
    "y = []\n",
    "\n",
    "for k in range(0,15219):\n",
    "    x.append(k)\n",
    "    y.append(razlika_ocen(k))\n",
    "plt.plot(x,y) \n",
    "razlika_ocen(15219)"
   ]
  },
  {
   "cell_type": "code",
   "execution_count": 91,
   "metadata": {},
   "outputs": [
    {
     "data": {
      "text/plain": [
       "0.015355283273644047"
      ]
     },
     "execution_count": 91,
     "metadata": {},
     "output_type": "execute_result"
    },
    {
     "data": {
      "image/png": "[encoded data removed]",
      "text/plain": [
       "<Figure size 432x288 with 1 Axes>"
      ]
     },
     "metadata": {
      "needs_background": "light"
     },
     "output_type": "display_data"
    }
   ],
   "source": [
    "igre['Procent'] = (igre['Metascore'] - igre['Ocena uporabnikov']*10)/igre['Metascore']\n",
    "def razlika_ocen_procent (k):\n",
    "    return igre['Procent'][:k].mean()\n",
    "\n",
    "x = []\n",
    "y = []\n",
    "\n",
    "for k in range(0,15219):\n",
    "    x.append(k)\n",
    "    y.append(razlika_ocen_procent(k))\n",
    "plt.plot(x,y) \n",
    "razlika_ocen_procent(15219)"
   ]
  },
  {
   "cell_type": "markdown",
   "metadata": {},
   "source": [
    "V zgornjih dveh grafih je prikazano absolutno in relativno odstopanje ocene uporabnikov od ocene na metascoru. Pri obeh je za najboljše igre veliko odstopanje, a v povprečju je absolutno metascore ocena višja za 1.7 ocene, relativno za 1.5 odstotka."
   ]
  },
  {
   "cell_type": "code",
   "execution_count": 52,
   "metadata": {},
   "outputs": [
    {
     "data": {
      "text/plain": [
       "<matplotlib.axes._subplots.AxesSubplot at 0x4cec110>"
      ]
     },
     "execution_count": 52,
     "metadata": {},
     "output_type": "execute_result"
    },
    {
     "data": {
      "image/png": "[encoded data removed]",
      "text/plain": [
       "<Figure size 432x288 with 1 Axes>"
      ]
     },
     "metadata": {},
     "output_type": "display_data"
    }
   ],
   "source": [
    "zaloz = igre.groupby('Založnik').size()\n",
    "zaloz[zaloz>100].plot.pie(autopct='%1.0f%%', pctdistance=1.1, labeldistance=1.4)"
   ]
  },
  {
   "cell_type": "markdown",
   "metadata": {},
   "source": [
    "Iz tortnega diagrama se vidi, da sta največja založnika Electronic Arts in Ubisoft. Ker sta oba imela več ponesrečenih iger, ju ni med najboljšimi tridesetimi založniki glede na ocene njihovih iger. "
   ]
  },
  {
   "cell_type": "code",
   "execution_count": 103,
   "metadata": {},
   "outputs": [
    {
     "data": {
      "text/html": [
       "<div>\n",
       "<style scoped>\n",
       "    .dataframe tbody tr th:only-of-type {\n",
       "        vertical-align: middle;\n",
       "    }\n",
       "\n",
       "    .dataframe tbody tr th {\n",
       "        vertical-align: top;\n",
       "    }\n",
       "\n",
       "    .dataframe thead th {\n",
       "        text-align: right;\n",
       "    }\n",
       "</style>\n",
       "<table border=\"1\" class=\"dataframe\">\n",
       "  <thead>\n",
       "    <tr style=\"text-align: right;\">\n",
       "      <th></th>\n",
       "      <th>Metascore</th>\n",
       "      <th>Ocena uporabnikov</th>\n",
       "      <th>Skupna ocena</th>\n",
       "    </tr>\n",
       "    <tr>\n",
       "      <th>Založnik</th>\n",
       "      <th></th>\n",
       "      <th></th>\n",
       "      <th></th>\n",
       "    </tr>\n",
       "  </thead>\n",
       "  <tbody>\n",
       "    <tr>\n",
       "      <td>Valve</td>\n",
       "      <td>86.821429</td>\n",
       "      <td>7.964286</td>\n",
       "      <td>83.232143</td>\n",
       "    </tr>\n",
       "    <tr>\n",
       "      <td>Rockstar</td>\n",
       "      <td>84.695652</td>\n",
       "      <td>7.711594</td>\n",
       "      <td>80.905797</td>\n",
       "    </tr>\n",
       "    <tr>\n",
       "      <td>Intelligent Systems</td>\n",
       "      <td>83.588235</td>\n",
       "      <td>7.720588</td>\n",
       "      <td>80.397059</td>\n",
       "    </tr>\n",
       "    <tr>\n",
       "      <td>Rare</td>\n",
       "      <td>80.096774</td>\n",
       "      <td>7.925806</td>\n",
       "      <td>79.677419</td>\n",
       "    </tr>\n",
       "    <tr>\n",
       "      <td>Blizzard</td>\n",
       "      <td>86.435897</td>\n",
       "      <td>7.179487</td>\n",
       "      <td>79.115385</td>\n",
       "    </tr>\n",
       "    <tr>\n",
       "      <td>Firaxis</td>\n",
       "      <td>83.447368</td>\n",
       "      <td>7.444737</td>\n",
       "      <td>78.947368</td>\n",
       "    </tr>\n",
       "    <tr>\n",
       "      <td>Neversoft</td>\n",
       "      <td>80.921569</td>\n",
       "      <td>7.621569</td>\n",
       "      <td>78.568627</td>\n",
       "    </tr>\n",
       "    <tr>\n",
       "      <td>Criterion</td>\n",
       "      <td>82.176471</td>\n",
       "      <td>7.464706</td>\n",
       "      <td>78.411765</td>\n",
       "    </tr>\n",
       "    <tr>\n",
       "      <td>Harmonix</td>\n",
       "      <td>80.418605</td>\n",
       "      <td>7.627907</td>\n",
       "      <td>78.348837</td>\n",
       "    </tr>\n",
       "    <tr>\n",
       "      <td>BioWare</td>\n",
       "      <td>79.416667</td>\n",
       "      <td>7.668333</td>\n",
       "      <td>78.050000</td>\n",
       "    </tr>\n",
       "    <tr>\n",
       "      <td>PlatinumGames</td>\n",
       "      <td>77.354839</td>\n",
       "      <td>7.812903</td>\n",
       "      <td>77.741935</td>\n",
       "    </tr>\n",
       "    <tr>\n",
       "      <td>KCET</td>\n",
       "      <td>79.000000</td>\n",
       "      <td>7.511765</td>\n",
       "      <td>77.058824</td>\n",
       "    </tr>\n",
       "    <tr>\n",
       "      <td>Nintendo</td>\n",
       "      <td>78.687500</td>\n",
       "      <td>7.525568</td>\n",
       "      <td>76.971591</td>\n",
       "    </tr>\n",
       "    <tr>\n",
       "      <td>Falcom</td>\n",
       "      <td>77.566667</td>\n",
       "      <td>7.630000</td>\n",
       "      <td>76.933333</td>\n",
       "    </tr>\n",
       "    <tr>\n",
       "      <td>SCE</td>\n",
       "      <td>77.309524</td>\n",
       "      <td>7.650000</td>\n",
       "      <td>76.904762</td>\n",
       "    </tr>\n",
       "    <tr>\n",
       "      <td>Crystal</td>\n",
       "      <td>77.702703</td>\n",
       "      <td>7.564865</td>\n",
       "      <td>76.675676</td>\n",
       "    </tr>\n",
       "    <tr>\n",
       "      <td>Obsidian</td>\n",
       "      <td>77.500000</td>\n",
       "      <td>7.506250</td>\n",
       "      <td>76.281250</td>\n",
       "    </tr>\n",
       "    <tr>\n",
       "      <td>Q Entertainment</td>\n",
       "      <td>76.774194</td>\n",
       "      <td>7.577419</td>\n",
       "      <td>76.274194</td>\n",
       "    </tr>\n",
       "    <tr>\n",
       "      <td>Bethesda</td>\n",
       "      <td>79.566038</td>\n",
       "      <td>7.296226</td>\n",
       "      <td>76.264151</td>\n",
       "    </tr>\n",
       "    <tr>\n",
       "      <td>Pandemic</td>\n",
       "      <td>74.096774</td>\n",
       "      <td>7.706452</td>\n",
       "      <td>75.580645</td>\n",
       "    </tr>\n",
       "    <tr>\n",
       "      <td>Visual</td>\n",
       "      <td>80.123596</td>\n",
       "      <td>7.101124</td>\n",
       "      <td>75.567416</td>\n",
       "    </tr>\n",
       "    <tr>\n",
       "      <td>Capcom</td>\n",
       "      <td>75.680645</td>\n",
       "      <td>7.516129</td>\n",
       "      <td>75.420968</td>\n",
       "    </tr>\n",
       "    <tr>\n",
       "      <td>Square</td>\n",
       "      <td>76.000000</td>\n",
       "      <td>7.457009</td>\n",
       "      <td>75.285047</td>\n",
       "    </tr>\n",
       "    <tr>\n",
       "      <td>Creative</td>\n",
       "      <td>76.272727</td>\n",
       "      <td>7.422727</td>\n",
       "      <td>75.250000</td>\n",
       "    </tr>\n",
       "    <tr>\n",
       "      <td>Monolith</td>\n",
       "      <td>77.733333</td>\n",
       "      <td>7.264444</td>\n",
       "      <td>75.188889</td>\n",
       "    </tr>\n",
       "    <tr>\n",
       "      <td>Inti</td>\n",
       "      <td>74.142857</td>\n",
       "      <td>7.614286</td>\n",
       "      <td>75.142857</td>\n",
       "    </tr>\n",
       "    <tr>\n",
       "      <td>2K</td>\n",
       "      <td>75.906250</td>\n",
       "      <td>7.431250</td>\n",
       "      <td>75.109375</td>\n",
       "    </tr>\n",
       "    <tr>\n",
       "      <td>LucasArts</td>\n",
       "      <td>74.162162</td>\n",
       "      <td>7.589189</td>\n",
       "      <td>75.027027</td>\n",
       "    </tr>\n",
       "    <tr>\n",
       "      <td>Codemasters</td>\n",
       "      <td>77.660194</td>\n",
       "      <td>7.231068</td>\n",
       "      <td>74.985437</td>\n",
       "    </tr>\n",
       "    <tr>\n",
       "      <td>Io</td>\n",
       "      <td>77.888889</td>\n",
       "      <td>7.184444</td>\n",
       "      <td>74.866667</td>\n",
       "    </tr>\n",
       "  </tbody>\n",
       "</table>\n",
       "</div>"
      ],
      "text/plain": [
       "                     Metascore  Ocena uporabnikov  Skupna ocena\n",
       "Založnik                                                       \n",
       "Valve                86.821429           7.964286     83.232143\n",
       "Rockstar             84.695652           7.711594     80.905797\n",
       "Intelligent Systems  83.588235           7.720588     80.397059\n",
       "Rare                 80.096774           7.925806     79.677419\n",
       "Blizzard             86.435897           7.179487     79.115385\n",
       "Firaxis              83.447368           7.444737     78.947368\n",
       "Neversoft            80.921569           7.621569     78.568627\n",
       "Criterion            82.176471           7.464706     78.411765\n",
       "Harmonix             80.418605           7.627907     78.348837\n",
       "BioWare              79.416667           7.668333     78.050000\n",
       "PlatinumGames        77.354839           7.812903     77.741935\n",
       "KCET                 79.000000           7.511765     77.058824\n",
       "Nintendo             78.687500           7.525568     76.971591\n",
       "Falcom               77.566667           7.630000     76.933333\n",
       "SCE                  77.309524           7.650000     76.904762\n",
       "Crystal              77.702703           7.564865     76.675676\n",
       "Obsidian             77.500000           7.506250     76.281250\n",
       "Q Entertainment      76.774194           7.577419     76.274194\n",
       "Bethesda             79.566038           7.296226     76.264151\n",
       "Pandemic             74.096774           7.706452     75.580645\n",
       "Visual               80.123596           7.101124     75.567416\n",
       "Capcom               75.680645           7.516129     75.420968\n",
       "Square               76.000000           7.457009     75.285047\n",
       "Creative             76.272727           7.422727     75.250000\n",
       "Monolith             77.733333           7.264444     75.188889\n",
       "Inti                 74.142857           7.614286     75.142857\n",
       "2K                   75.906250           7.431250     75.109375\n",
       "LucasArts            74.162162           7.589189     75.027027\n",
       "Codemasters          77.660194           7.231068     74.985437\n",
       "Io                   77.888889           7.184444     74.866667"
      ]
     },
     "execution_count": 103,
     "metadata": {},
     "output_type": "execute_result"
    }
   ],
   "source": [
    "felc = igre[igre['Založnik']=='Zen'].groupby('Založnik').mean()\n",
    "\n",
    "zal = zaloz[zaloz>27].reset_index()\n",
    "for zaloznik in zal['Založnik']:\n",
    "    felc = felc.append(igre[igre['Založnik']==zaloznik].groupby('Založnik').mean())\n",
    "felc = felc.sort_values('Skupna ocena', ascending=False).drop(columns='Procent')\n",
    "\n",
    "felc.head(30)"
   ]
  },
  {
   "cell_type": "markdown",
   "metadata": {},
   "source": [
    "Najboljši založnik z več kot 27 izdanimi igrami je Valve, ki ima najvišjo povprečo oceno v vseh kategorijah. To ni presenečenje, saj so z izjemo Artifacta za vsako igro poželi priznanja kritikov ter so razvili dve od treh iger, Counter Strike: Global Offensive in Dota 2,  ki so trenunto na vrho esport scene. Na seznamu žal ni Riot Games, razvijalca League of Legends, tretjega člana trenutnega vrha esporta, zaradi premajhnega števila izdanih iger.\n",
    "Sledi jim Rockstar, založniki serij Grand Theft Auto in Max Payne ter legendarni Blizzard, razvijalec World of Warcrafta, Diabla, Owerwatcha ter StarCrafta, ene prvih iger z aktivno esport sceno.    "
   ]
  },
  {
   "cell_type": "code",
   "execution_count": 54,
   "metadata": {},
   "outputs": [
    {
     "data": {
      "text/plain": [
       "<matplotlib.axes._subplots.AxesSubplot at 0x4d54a90>"
      ]
     },
     "execution_count": 54,
     "metadata": {},
     "output_type": "execute_result"
    },
    {
     "data": {
      "image/png": "[encoded data removed]",
      "text/plain": [
       "<Figure size 432x288 with 1 Axes>"
      ]
     },
     "metadata": {
      "needs_background": "light"
     },
     "output_type": "display_data"
    },
    {
     "data": {
      "image/png": "[encoded data removed]",
      "text/plain": [
       "<Figure size 432x288 with 1 Axes>"
      ]
     },
     "metadata": {
      "needs_background": "light"
     },
     "output_type": "display_data"
    }
   ],
   "source": [
    "igre1 = igre.drop(['Skupna ocena', 'Razlika'], axis = 1)\n",
    "igre2 = igre1.drop(columns='Metascore')\n",
    "igre3 = igre1.drop(columns='Ocena uporabnikov')\n",
    "igre2.groupby([igre['Datum izdaje'].dt.year.rename('Leto')]).agg({'mean'}).plot.bar()\n",
    "igre3.groupby([igre['Datum izdaje'].dt.year.rename('Leto')]).agg({'mean'}).plot.bar()"
   ]
  },
  {
   "cell_type": "markdown",
   "metadata": {},
   "source": [
    "V grafih so prikazane povprečne ocene iger v posameznem letu iz strani metascora in uporabnikov. Zanimivo je, da so igre, ustvarjene pred Metascorom leta 1999, višje ocenjene kot igre po 1999. "
   ]
  },
  {
   "cell_type": "code",
   "execution_count": 55,
   "metadata": {},
   "outputs": [
    {
     "data": {
      "text/plain": [
       "<matplotlib.axes._subplots.AxesSubplot at 0x4d11610>"
      ]
     },
     "execution_count": 55,
     "metadata": {},
     "output_type": "execute_result"
    },
    {
     "data": {
      "image/png": "[encoded data removed]",
      "text/plain": [
       "<Figure size 432x288 with 1 Axes>"
      ]
     },
     "metadata": {
      "needs_background": "light"
     },
     "output_type": "display_data"
    }
   ],
   "source": [
    "sumarija = igre.groupby([igre['Datum izdaje'].dt.month.rename('Mesec')]).agg({'count'})[['Datum izdaje']]\n",
    "sumarija.plot.bar()"
   ]
  },
  {
   "cell_type": "markdown",
   "metadata": {},
   "source": [
    "Če primerjamo število izdanih iger glede na mesec, lahko opazimo dva vzorca. Prvi je porast izdaj iger jeseni, večinoma oktobra in novembra, saj je to v času črnega petka in priprave na božično nakupovanje. Drugi porast je pomladi, delno iz priprave na poletuje, delno ker je bilo će dovolj časa od novega leta in od božiča, da se ustvari prostor za nove izdaje."
   ]
  },
  {
   "cell_type": "code",
   "execution_count": 56,
   "metadata": {},
   "outputs": [
    {
     "data": {
      "text/plain": [
       "<matplotlib.axes._subplots.AxesSubplot at 0x4d3e970>"
      ]
     },
     "execution_count": 56,
     "metadata": {},
     "output_type": "execute_result"
    },
    {
     "data": {
      "image/png": "[encoded data removed]",
      "text/plain": [
       "<Figure size 432x288 with 1 Axes>"
      ]
     },
     "metadata": {
      "needs_background": "light"
     },
     "output_type": "display_data"
    }
   ],
   "source": [
    "vsota = igre.groupby(igre['Datum izdaje'].dt.year.rename('Leto')).count()\n",
    "vsota['Datum izdaje'].plot.bar()"
   ]
  },
  {
   "cell_type": "markdown",
   "metadata": {},
   "source": [
    "V pregledu izdaj iger skozi leta je zaradi vedno večje priljubljenosti tudi vedno več iger, saj se trg za nijih širi."
   ]
  },
  {
   "cell_type": "code",
   "execution_count": 107,
   "metadata": {},
   "outputs": [
    {
     "data": {
      "text/plain": [
       "-152.25684568032264"
      ]
     },
     "execution_count": 107,
     "metadata": {},
     "output_type": "execute_result"
    },
    {
     "data": {
      "image/png": "[encoded data removed]",
      "text/plain": [
       "<Figure size 432x288 with 1 Axes>"
      ]
     },
     "metadata": {
      "needs_background": "light"
     },
     "output_type": "display_data"
    }
   ],
   "source": [
    "igre['Razlika'] = abs(igre.index)\n",
    "pomozna = igre.sort_values('Ocena uporabnikov', ascending=False)\n",
    "pomozna.reset_index()\n",
    "igre['Dejanska razlika'] = (igre.index-pomozna.index)/2\n",
    "\n",
    "def razlika_polozaja (k):\n",
    "    return igre['Dejanska razlika'][:k].mean()\n",
    "\n",
    "x = []\n",
    "y = []\n",
    "\n",
    "for k in range(0,15219):\n",
    "    x.append(k)\n",
    "    y.append(razlika(k))\n",
    "plt.plot(x,y) \n",
    "razlika_polozaja(15220)"
   ]
  },
  {
   "cell_type": "markdown",
   "metadata": {},
   "source": [
    "Zgornji graf prikazuje povprečno razliko med mestom igre glede na oceno metascora in ocene uporabnikov. Indeks je deljen z dva saj to potem pove pove oddaljenost od mesta, ki bi ga igra morala zasesti po uravnoteženi oceni. Če so igre urejene po oceni metascora, so v povprečju 152 mest pod mestom, ki bi ga zasedle po uravnoteženi oceni. "
   ]
  },
  {
   "cell_type": "code",
   "execution_count": 75,
   "metadata": {},
   "outputs": [],
   "source": [
    "def obtezeno_k_najboljsih (p, k):\n",
    "    #p predstavlja delež ocene metascore, ki bo uprabljen v izračunu obrtežene ocene\n",
    "    if k < 1 or k > 15219 or type(k)!=int:\n",
    "        return 'Drugo število mora biti celo in med 1 ter 15219'\n",
    "    \n",
    "    if p == 1:\n",
    "        return igre.sort_values('Ocena uporabnikov', ascending = False).reset_index()\n",
    "    \n",
    "    if p == 0:\n",
    "        return igre\n",
    "    \n",
    "    if p > 1 or p<0 or type(p)!=float :\n",
    "        return 'Prvo število mora biti med 0 in 1'\n",
    "    \n",
    "    igre['Obtezeno'] = p*igre['Metascore'] + (1-p)*igre['Ocena uporabnikov']\n",
    "    \n",
    "    return igre.sort_values('Obtezeno', ascending=False).drop(columns='Obtezeno').reset_index()[:k]"
   ]
  },
  {
   "cell_type": "code",
   "execution_count": 108,
   "metadata": {},
   "outputs": [
    {
     "data": {
      "text/html": [
       "<div>\n",
       "<style scoped>\n",
       "    .dataframe tbody tr th:only-of-type {\n",
       "        vertical-align: middle;\n",
       "    }\n",
       "\n",
       "    .dataframe tbody tr th {\n",
       "        vertical-align: top;\n",
       "    }\n",
       "\n",
       "    .dataframe thead th {\n",
       "        text-align: right;\n",
       "    }\n",
       "</style>\n",
       "<table border=\"1\" class=\"dataframe\">\n",
       "  <thead>\n",
       "    <tr style=\"text-align: right;\">\n",
       "      <th></th>\n",
       "      <th>stevilka</th>\n",
       "      <th>konzola</th>\n",
       "      <th>naslov</th>\n",
       "      <th>povzetek</th>\n",
       "      <th>Metascore</th>\n",
       "      <th>Ocena uporabnikov</th>\n",
       "      <th>ESBR</th>\n",
       "      <th>Založnik</th>\n",
       "      <th>1.žanr</th>\n",
       "      <th>2.žanr</th>\n",
       "      <th>Skupna ocena</th>\n",
       "      <th>Datum izdaje</th>\n",
       "      <th>Procent</th>\n",
       "      <th>Razlika</th>\n",
       "      <th>Dejanska razlika</th>\n",
       "    </tr>\n",
       "  </thead>\n",
       "  <tbody>\n",
       "    <tr>\n",
       "      <td>0</td>\n",
       "      <td>17.0</td>\n",
       "      <td>Playstation 4</td>\n",
       "      <td>Grand Theft Auto V</td>\n",
       "      <td>The sprawling sun-soaked metropolis of Los San...</td>\n",
       "      <td>97.0</td>\n",
       "      <td>9.2</td>\n",
       "      <td>M</td>\n",
       "      <td>Rockstar</td>\n",
       "      <td>Modern</td>\n",
       "      <td>Open-World</td>\n",
       "      <td>94.5</td>\n",
       "      <td>2014-11-18</td>\n",
       "      <td>0.051546</td>\n",
       "      <td>17.0</td>\n",
       "      <td>-45.5</td>\n",
       "    </tr>\n",
       "    <tr>\n",
       "      <td>1</td>\n",
       "      <td>6.0</td>\n",
       "      <td>Wii</td>\n",
       "      <td>Super Mario Galaxy</td>\n",
       "      <td>[Metacritic's 2007 Wii Game of the Year] The u...</td>\n",
       "      <td>97.0</td>\n",
       "      <td>9.1</td>\n",
       "      <td>E</td>\n",
       "      <td>Nintendo</td>\n",
       "      <td>3D</td>\n",
       "      <td>3D</td>\n",
       "      <td>94.0</td>\n",
       "      <td>2007-11-12</td>\n",
       "      <td>0.061856</td>\n",
       "      <td>6.0</td>\n",
       "      <td>-117.5</td>\n",
       "    </tr>\n",
       "    <tr>\n",
       "      <td>2</td>\n",
       "      <td>3.0</td>\n",
       "      <td>Playstation 3</td>\n",
       "      <td>Grand Theft Auto IV</td>\n",
       "      <td>[Metacritic's 2008 PS3 Game of the Year; Also ...</td>\n",
       "      <td>98.0</td>\n",
       "      <td>8.6</td>\n",
       "      <td>M</td>\n",
       "      <td>Rockstar</td>\n",
       "      <td>Modern</td>\n",
       "      <td>Open-World</td>\n",
       "      <td>92.0</td>\n",
       "      <td>2008-04-29</td>\n",
       "      <td>0.122449</td>\n",
       "      <td>3.0</td>\n",
       "      <td>-7.0</td>\n",
       "    </tr>\n",
       "    <tr>\n",
       "      <td>3</td>\n",
       "      <td>5.0</td>\n",
       "      <td>Xbox 360</td>\n",
       "      <td>Grand Theft Auto IV</td>\n",
       "      <td>[Metacritic's 2008 Xbox 360 Game of the Year; ...</td>\n",
       "      <td>97.0</td>\n",
       "      <td>9.0</td>\n",
       "      <td>M</td>\n",
       "      <td>Rockstar</td>\n",
       "      <td>Modern</td>\n",
       "      <td>Open-World</td>\n",
       "      <td>93.5</td>\n",
       "      <td>2008-04-29</td>\n",
       "      <td>0.072165</td>\n",
       "      <td>5.0</td>\n",
       "      <td>-136.0</td>\n",
       "    </tr>\n",
       "    <tr>\n",
       "      <td>4</td>\n",
       "      <td>14.0</td>\n",
       "      <td>Playstation 2</td>\n",
       "      <td>Tony Hawk's Pro Skater 3</td>\n",
       "      <td>Challenge up to four friends in online competi...</td>\n",
       "      <td>97.0</td>\n",
       "      <td>8.9</td>\n",
       "      <td>T</td>\n",
       "      <td>Neversoft</td>\n",
       "      <td>Alternative</td>\n",
       "      <td>Skateboarding</td>\n",
       "      <td>93.0</td>\n",
       "      <td>2001-10-28</td>\n",
       "      <td>0.082474</td>\n",
       "      <td>14.0</td>\n",
       "      <td>-14.5</td>\n",
       "    </tr>\n",
       "    <tr>\n",
       "      <td>5</td>\n",
       "      <td>19.0</td>\n",
       "      <td>Playstation 2</td>\n",
       "      <td>Grand Theft Auto III</td>\n",
       "      <td>Players are put at the heart of their very own...</td>\n",
       "      <td>97.0</td>\n",
       "      <td>8.9</td>\n",
       "      <td>M</td>\n",
       "      <td>DMA</td>\n",
       "      <td>Action Adventure</td>\n",
       "      <td>Modern</td>\n",
       "      <td>93.0</td>\n",
       "      <td>2001-10-22</td>\n",
       "      <td>0.082474</td>\n",
       "      <td>19.0</td>\n",
       "      <td>-193.0</td>\n",
       "    </tr>\n",
       "    <tr>\n",
       "      <td>6</td>\n",
       "      <td>30.0</td>\n",
       "      <td>Xbox 360</td>\n",
       "      <td>The Orange Box</td>\n",
       "      <td>Games included in The Orange Box compilation: ...</td>\n",
       "      <td>96.0</td>\n",
       "      <td>9.2</td>\n",
       "      <td>M</td>\n",
       "      <td>Valve</td>\n",
       "      <td>First-Person</td>\n",
       "      <td>Sci-Fi</td>\n",
       "      <td>94.0</td>\n",
       "      <td>2007-10-10</td>\n",
       "      <td>0.041667</td>\n",
       "      <td>30.0</td>\n",
       "      <td>-2428.0</td>\n",
       "    </tr>\n",
       "    <tr>\n",
       "      <td>7</td>\n",
       "      <td>28.0</td>\n",
       "      <td>Playstation 3</td>\n",
       "      <td>Uncharted 2: Among Thieves</td>\n",
       "      <td>Fortune hunter Nathan Drake returns in Unchart...</td>\n",
       "      <td>96.0</td>\n",
       "      <td>9.2</td>\n",
       "      <td>M</td>\n",
       "      <td>Capcom</td>\n",
       "      <td>Action Adventure</td>\n",
       "      <td>Horror</td>\n",
       "      <td>94.0</td>\n",
       "      <td>2009-10-13</td>\n",
       "      <td>0.041667</td>\n",
       "      <td>28.0</td>\n",
       "      <td>-134.0</td>\n",
       "    </tr>\n",
       "    <tr>\n",
       "      <td>8</td>\n",
       "      <td>22.0</td>\n",
       "      <td>Dreamcast</td>\n",
       "      <td>NFL 2K1</td>\n",
       "      <td>In the end, NFL 2K1 is a deeper, more refined ...</td>\n",
       "      <td>96.0</td>\n",
       "      <td>9.1</td>\n",
       "      <td>E</td>\n",
       "      <td>Visual</td>\n",
       "      <td>Football</td>\n",
       "      <td>Sim</td>\n",
       "      <td>93.5</td>\n",
       "      <td>2000-09-07</td>\n",
       "      <td>0.052083</td>\n",
       "      <td>22.0</td>\n",
       "      <td>-202.5</td>\n",
       "    </tr>\n",
       "    <tr>\n",
       "      <td>9</td>\n",
       "      <td>32.0</td>\n",
       "      <td>Playstation 3</td>\n",
       "      <td>Batman: Arkham City</td>\n",
       "      <td>Developed by Rocksteady Studios, Batman: Arkha...</td>\n",
       "      <td>96.0</td>\n",
       "      <td>9.1</td>\n",
       "      <td>T</td>\n",
       "      <td>Rocksteady</td>\n",
       "      <td>Fantasy</td>\n",
       "      <td>Open-World</td>\n",
       "      <td>93.5</td>\n",
       "      <td>2011-10-18</td>\n",
       "      <td>0.052083</td>\n",
       "      <td>32.0</td>\n",
       "      <td>-12.5</td>\n",
       "    </tr>\n",
       "  </tbody>\n",
       "</table>\n",
       "</div>"
      ],
      "text/plain": [
       "   stevilka        konzola                      naslov  \\\n",
       "0      17.0  Playstation 4          Grand Theft Auto V   \n",
       "1       6.0            Wii          Super Mario Galaxy   \n",
       "2       3.0  Playstation 3         Grand Theft Auto IV   \n",
       "3       5.0       Xbox 360         Grand Theft Auto IV   \n",
       "4      14.0  Playstation 2    Tony Hawk's Pro Skater 3   \n",
       "5      19.0  Playstation 2        Grand Theft Auto III   \n",
       "6      30.0       Xbox 360              The Orange Box   \n",
       "7      28.0  Playstation 3  Uncharted 2: Among Thieves   \n",
       "8      22.0      Dreamcast                     NFL 2K1   \n",
       "9      32.0  Playstation 3         Batman: Arkham City   \n",
       "\n",
       "                                            povzetek  Metascore  \\\n",
       "0  The sprawling sun-soaked metropolis of Los San...       97.0   \n",
       "1  [Metacritic's 2007 Wii Game of the Year] The u...       97.0   \n",
       "2  [Metacritic's 2008 PS3 Game of the Year; Also ...       98.0   \n",
       "3  [Metacritic's 2008 Xbox 360 Game of the Year; ...       97.0   \n",
       "4  Challenge up to four friends in online competi...       97.0   \n",
       "5  Players are put at the heart of their very own...       97.0   \n",
       "6  Games included in The Orange Box compilation: ...       96.0   \n",
       "7  Fortune hunter Nathan Drake returns in Unchart...       96.0   \n",
       "8  In the end, NFL 2K1 is a deeper, more refined ...       96.0   \n",
       "9  Developed by Rocksteady Studios, Batman: Arkha...       96.0   \n",
       "\n",
       "   Ocena uporabnikov ESBR    Založnik            1.žanr         2.žanr  \\\n",
       "0                9.2    M    Rockstar            Modern     Open-World   \n",
       "1                9.1    E    Nintendo                3D             3D   \n",
       "2                8.6    M    Rockstar            Modern     Open-World   \n",
       "3                9.0    M    Rockstar            Modern     Open-World   \n",
       "4                8.9    T   Neversoft       Alternative  Skateboarding   \n",
       "5                8.9    M         DMA  Action Adventure         Modern   \n",
       "6                9.2    M       Valve      First-Person         Sci-Fi   \n",
       "7                9.2    M      Capcom  Action Adventure         Horror   \n",
       "8                9.1    E      Visual          Football            Sim   \n",
       "9                9.1    T  Rocksteady           Fantasy     Open-World   \n",
       "\n",
       "   Skupna ocena Datum izdaje   Procent  Razlika  Dejanska razlika  \n",
       "0          94.5   2014-11-18  0.051546     17.0             -45.5  \n",
       "1          94.0   2007-11-12  0.061856      6.0            -117.5  \n",
       "2          92.0   2008-04-29  0.122449      3.0              -7.0  \n",
       "3          93.5   2008-04-29  0.072165      5.0            -136.0  \n",
       "4          93.0   2001-10-28  0.082474     14.0             -14.5  \n",
       "5          93.0   2001-10-22  0.082474     19.0            -193.0  \n",
       "6          94.0   2007-10-10  0.041667     30.0           -2428.0  \n",
       "7          94.0   2009-10-13  0.041667     28.0            -134.0  \n",
       "8          93.5   2000-09-07  0.052083     22.0            -202.5  \n",
       "9          93.5   2011-10-18  0.052083     32.0             -12.5  "
      ]
     },
     "execution_count": 108,
     "metadata": {},
     "output_type": "execute_result"
    }
   ],
   "source": [
    "obtezeno_k_najboljsih(0.3,10)"
   ]
  },
  {
   "cell_type": "markdown",
   "metadata": {},
   "source": [
    "Zgornja funkcija nam omogoči poljubno obteževanje ocene metascora in ocene uporabnikov, iz kjer lahko dobimo ustreznih 'k' najbolje ocenjenih iger."
   ]
  },
  {
   "cell_type": "markdown",
   "metadata": {},
   "source": [
    "# Zaključek"
   ]
  },
  {
   "cell_type": "markdown",
   "metadata": {},
   "source": [
    "Iz analize je razvidno, da metascore ocene niso preveč v skaldu z ocenami uporabnikov, ki bi morale biti pomembnejše v ocenjevanju iger kot ocene kritikov. Obe strani pa se strinjata glede dobrih iger, kar je razvidno iz tabele povprečij razvijalcev. Najbolje ocenjene igre večinoma izhajajo iz let med 2000 in 2010, ko se z lepim grafičnim dizajnom ni bilo še mogoče skriti pomankljivosti v zgodbah iger ali načinom igranja. Čeprav je največ iger izdanih za PC, so najbolje ocenjene večinoma za konzole, saj je bil to prvotni dom za video igre. "
   ]
  }
 ],
 "metadata": {
  "kernelspec": {
   "display_name": "Python 3",
   "language": "python",
   "name": "python3"
  },
  "language_info": {
   "codemirror_mode": {
    "name": "ipython",
    "version": 3
   },
   "file_extension": ".py",
   "mimetype": "text/x-python",
   "name": "python",
   "nbconvert_exporter": "python",
   "pygments_lexer": "ipython3",
   "version": "3.7.4"
  }
 },
 "nbformat": 4,
 "nbformat_minor": 2
}
