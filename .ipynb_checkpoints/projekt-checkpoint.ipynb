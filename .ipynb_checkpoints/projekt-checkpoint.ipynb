{
 "cells": [
  {
   "cell_type": "code",
   "execution_count": 19,
   "metadata": {},
   "outputs": [],
   "source": [
    "import pandas as pd\n",
    "import numpy as np\n",
    "import matplotlib.pyplot as plt\n",
    "%matplotlib inline\n",
    "from datetime import datetime\n",
    "igre = pd.read_csv('csvji/podatki.csv', index_col='stevilka')\n",
    "ocene = pd.read_json(\"jsoni/ocene.json\")\n",
    "nekaj = pd.read_csv('csvji/igre.csv')"
   ]
  },
  {
   "cell_type": "code",
   "execution_count": null,
   "metadata": {
    "scrolled": false
   },
   "outputs": [],
   "source": []
  },
  {
   "cell_type": "code",
   "execution_count": null,
   "metadata": {},
   "outputs": [],
   "source": []
  },
  {
   "cell_type": "code",
   "execution_count": null,
   "metadata": {},
   "outputs": [],
   "source": []
  },
  {
   "cell_type": "code",
   "execution_count": 20,
   "metadata": {},
   "outputs": [],
   "source": [
    "igre['Metascore'] = ocene['Metascore']\n",
    "igre['Ocena_uporabnikov'] = ocene['ocena_uporabnikov']"
   ]
  },
  {
   "cell_type": "code",
   "execution_count": 21,
   "metadata": {},
   "outputs": [],
   "source": [
    "igre['ESBR'] = nekaj['esbr']\n",
    "igre['Založnik'] = nekaj['Zaloznik']\n",
    "igre['1.žanr'] = nekaj['zanr1']\n",
    "igre['2.žanr'] = nekaj['zanr2']\n",
    "igre['Založnik'] = igre['Založnik'].replace('Electronic', 'EA')\n",
    "igre['Založnik'] = igre['Založnik'].replace('Intelligent', 'Intelligent Systems')\n",
    "igre['Založnik'] = igre['Založnik'].replace('Q', 'Q Entertainment')\n"
   ]
  },
  {
   "cell_type": "code",
   "execution_count": 22,
   "metadata": {},
   "outputs": [
    {
     "data": {
      "text/plain": [
       "url_do_igre          32\n",
       "konzola              32\n",
       "naslov               32\n",
       "Datum_izdaje         32\n",
       "povzetek             32\n",
       "Metascore            32\n",
       "Ocena_uporabnikov    32\n",
       "ESBR                 22\n",
       "Založnik             32\n",
       "1.žanr               32\n",
       "2.žanr               32\n",
       "dtype: int64"
      ]
     },
     "execution_count": 22,
     "metadata": {},
     "output_type": "execute_result"
    }
   ],
   "source": [
    "igre[igre['Založnik']=='Q Entertainment'].count()"
   ]
  },
  {
   "cell_type": "code",
   "execution_count": null,
   "metadata": {},
   "outputs": [],
   "source": []
  },
  {
   "cell_type": "code",
   "execution_count": 23,
   "metadata": {},
   "outputs": [],
   "source": [
    "zamenjaj = {'pc':'PC', 'nintendo-64':'Nintendo 64', 'playstation':'Playstation', 'playstation-3':'Playstation 3', 'dreamcast':'Dreamcast', \n",
    "           'xbox-360':'Xbox 360', 'wii':'Wii', 'switch':'Switch', 'playstation-2':'Playstation 2', 'playstation-4':'Playstation 4', \n",
    "           'gamecube':'Gamecube','xbox':'Xbox', 'wii-u':'Wii U', 'game-boy-advance':'Game Boy Advance', '3ds':'Nintendo 3DS','ds':'Nintendo DS',\n",
    "           'playstation-vita':'Playstation Vita', 'psp':'PSP', 'xbox-one':'Xbox One'}"
   ]
  },
  {
   "cell_type": "code",
   "execution_count": 24,
   "metadata": {},
   "outputs": [],
   "source": [
    "igre = igre.replace({'konzola':zamenjaj})\n",
    "igre = igre[igre['Ocena_uporabnikov']!='tbd']"
   ]
  },
  {
   "cell_type": "code",
   "execution_count": 25,
   "metadata": {},
   "outputs": [],
   "source": [
    "igre = igre.drop(columns='url_do_igre')"
   ]
  },
  {
   "cell_type": "code",
   "execution_count": 26,
   "metadata": {},
   "outputs": [],
   "source": [
    "igre = igre[:16500]"
   ]
  },
  {
   "cell_type": "code",
   "execution_count": 27,
   "metadata": {},
   "outputs": [
    {
     "data": {
      "text/html": [
       "<div>\n",
       "<style scoped>\n",
       "    .dataframe tbody tr th:only-of-type {\n",
       "        vertical-align: middle;\n",
       "    }\n",
       "\n",
       "    .dataframe tbody tr th {\n",
       "        vertical-align: top;\n",
       "    }\n",
       "\n",
       "    .dataframe thead th {\n",
       "        text-align: right;\n",
       "    }\n",
       "</style>\n",
       "<table border=\"1\" class=\"dataframe\">\n",
       "  <thead>\n",
       "    <tr style=\"text-align: right;\">\n",
       "      <th></th>\n",
       "      <th>konzola</th>\n",
       "      <th>naslov</th>\n",
       "      <th>Datum_izdaje</th>\n",
       "      <th>povzetek</th>\n",
       "      <th>Metascore</th>\n",
       "      <th>Ocena_uporabnikov</th>\n",
       "      <th>ESBR</th>\n",
       "      <th>Založnik</th>\n",
       "      <th>1.žanr</th>\n",
       "      <th>2.žanr</th>\n",
       "    </tr>\n",
       "    <tr>\n",
       "      <th>stevilka</th>\n",
       "      <th></th>\n",
       "      <th></th>\n",
       "      <th></th>\n",
       "      <th></th>\n",
       "      <th></th>\n",
       "      <th></th>\n",
       "      <th></th>\n",
       "      <th></th>\n",
       "      <th></th>\n",
       "      <th></th>\n",
       "    </tr>\n",
       "  </thead>\n",
       "  <tbody>\n",
       "    <tr>\n",
       "      <td>2543.0</td>\n",
       "      <td>PC</td>\n",
       "      <td>Counter-Strike: Global Offensive</td>\n",
       "      <td>August 21, 2012</td>\n",
       "      <td>Counter-Strike: Global Offensive features new ...</td>\n",
       "      <td>83.0</td>\n",
       "      <td>7.7</td>\n",
       "      <td>M</td>\n",
       "      <td>Capcom</td>\n",
       "      <td>Action Adventure</td>\n",
       "      <td>Survival</td>\n",
       "    </tr>\n",
       "    <tr>\n",
       "      <td>3928.0</td>\n",
       "      <td>Playstation 3</td>\n",
       "      <td>Counter-Strike: Global Offensive</td>\n",
       "      <td>August 21, 2012</td>\n",
       "      <td>Counter-Strike: Global Offensive features new ...</td>\n",
       "      <td>80.0</td>\n",
       "      <td>7.6</td>\n",
       "      <td>E</td>\n",
       "      <td>EA</td>\n",
       "      <td>Sim</td>\n",
       "      <td>Sim</td>\n",
       "    </tr>\n",
       "    <tr>\n",
       "      <td>4266.0</td>\n",
       "      <td>Xbox 360</td>\n",
       "      <td>Counter-Strike: Global Offensive</td>\n",
       "      <td>August 22, 2012</td>\n",
       "      <td>Counter-Strike: Global Offensive features new ...</td>\n",
       "      <td>79.0</td>\n",
       "      <td>8.2</td>\n",
       "      <td>T</td>\n",
       "      <td>Raven</td>\n",
       "      <td>Role-Playing</td>\n",
       "      <td>Action RPG</td>\n",
       "    </tr>\n",
       "  </tbody>\n",
       "</table>\n",
       "</div>"
      ],
      "text/plain": [
       "                konzola                            naslov     Datum_izdaje  \\\n",
       "stevilka                                                                     \n",
       "2543.0               PC  Counter-Strike: Global Offensive  August 21, 2012   \n",
       "3928.0    Playstation 3  Counter-Strike: Global Offensive  August 21, 2012   \n",
       "4266.0         Xbox 360  Counter-Strike: Global Offensive  August 22, 2012   \n",
       "\n",
       "                                                   povzetek  Metascore  \\\n",
       "stevilka                                                                 \n",
       "2543.0    Counter-Strike: Global Offensive features new ...       83.0   \n",
       "3928.0    Counter-Strike: Global Offensive features new ...       80.0   \n",
       "4266.0    Counter-Strike: Global Offensive features new ...       79.0   \n",
       "\n",
       "         Ocena_uporabnikov ESBR Založnik            1.žanr      2.žanr  \n",
       "stevilka                                                                \n",
       "2543.0                 7.7    M   Capcom  Action Adventure    Survival  \n",
       "3928.0                 7.6    E       EA               Sim         Sim  \n",
       "4266.0                 8.2    T    Raven      Role-Playing  Action RPG  "
      ]
     },
     "execution_count": 27,
     "metadata": {},
     "output_type": "execute_result"
    }
   ],
   "source": [
    "igre[igre['naslov'] == 'Counter-Strike: Global Offensive']"
   ]
  },
  {
   "cell_type": "code",
   "execution_count": 28,
   "metadata": {},
   "outputs": [
    {
     "data": {
      "text/html": [
       "<div>\n",
       "<style scoped>\n",
       "    .dataframe tbody tr th:only-of-type {\n",
       "        vertical-align: middle;\n",
       "    }\n",
       "\n",
       "    .dataframe tbody tr th {\n",
       "        vertical-align: top;\n",
       "    }\n",
       "\n",
       "    .dataframe thead th {\n",
       "        text-align: right;\n",
       "    }\n",
       "</style>\n",
       "<table border=\"1\" class=\"dataframe\">\n",
       "  <thead>\n",
       "    <tr style=\"text-align: right;\">\n",
       "      <th></th>\n",
       "      <th>konzola</th>\n",
       "      <th>naslov</th>\n",
       "      <th>Datum_izdaje</th>\n",
       "      <th>povzetek</th>\n",
       "      <th>Metascore</th>\n",
       "      <th>Ocena_uporabnikov</th>\n",
       "      <th>ESBR</th>\n",
       "      <th>Založnik</th>\n",
       "      <th>1.žanr</th>\n",
       "      <th>2.žanr</th>\n",
       "      <th>Skupna ocena</th>\n",
       "    </tr>\n",
       "    <tr>\n",
       "      <th>stevilka</th>\n",
       "      <th></th>\n",
       "      <th></th>\n",
       "      <th></th>\n",
       "      <th></th>\n",
       "      <th></th>\n",
       "      <th></th>\n",
       "      <th></th>\n",
       "      <th></th>\n",
       "      <th></th>\n",
       "      <th></th>\n",
       "      <th></th>\n",
       "    </tr>\n",
       "  </thead>\n",
       "  <tbody>\n",
       "    <tr>\n",
       "      <td>1.0</td>\n",
       "      <td>Nintendo 64</td>\n",
       "      <td>The Legend of Zelda: Ocarina of Time</td>\n",
       "      <td>November 23, 1998</td>\n",
       "      <td>As a young boy, Link is tricked by Ganondorf, ...</td>\n",
       "      <td>98.0</td>\n",
       "      <td>7.5</td>\n",
       "      <td>E</td>\n",
       "      <td>Nintendo</td>\n",
       "      <td>Action Adventure</td>\n",
       "      <td>Fantasy</td>\n",
       "      <td>173.0</td>\n",
       "    </tr>\n",
       "    <tr>\n",
       "      <td>2.0</td>\n",
       "      <td>Playstation</td>\n",
       "      <td>Tony Hawk's Pro Skater 2</td>\n",
       "      <td>September 20, 2000</td>\n",
       "      <td>As most major publishers' development efforts ...</td>\n",
       "      <td>98.0</td>\n",
       "      <td>7.5</td>\n",
       "      <td>T</td>\n",
       "      <td>Neversoft</td>\n",
       "      <td>Alternative</td>\n",
       "      <td>Skateboarding</td>\n",
       "      <td>173.0</td>\n",
       "    </tr>\n",
       "    <tr>\n",
       "      <td>3.0</td>\n",
       "      <td>Playstation 3</td>\n",
       "      <td>Grand Theft Auto IV</td>\n",
       "      <td>April 29, 2008</td>\n",
       "      <td>[Metacritic's 2008 PS3 Game of the Year; Also ...</td>\n",
       "      <td>98.0</td>\n",
       "      <td>8.6</td>\n",
       "      <td>M</td>\n",
       "      <td>Rockstar</td>\n",
       "      <td>Modern</td>\n",
       "      <td>Open-World</td>\n",
       "      <td>184.0</td>\n",
       "    </tr>\n",
       "    <tr>\n",
       "      <td>4.0</td>\n",
       "      <td>Dreamcast</td>\n",
       "      <td>SoulCalibur</td>\n",
       "      <td>September 8, 1999</td>\n",
       "      <td>This is a tale of souls and swords, transcendi...</td>\n",
       "      <td>98.0</td>\n",
       "      <td>7.9</td>\n",
       "      <td>T</td>\n",
       "      <td>Namco</td>\n",
       "      <td>Fighting</td>\n",
       "      <td>3D</td>\n",
       "      <td>177.0</td>\n",
       "    </tr>\n",
       "    <tr>\n",
       "      <td>5.0</td>\n",
       "      <td>Xbox 360</td>\n",
       "      <td>Grand Theft Auto IV</td>\n",
       "      <td>April 29, 2008</td>\n",
       "      <td>[Metacritic's 2008 Xbox 360 Game of the Year; ...</td>\n",
       "      <td>97.0</td>\n",
       "      <td>9.0</td>\n",
       "      <td>M</td>\n",
       "      <td>Rockstar</td>\n",
       "      <td>Modern</td>\n",
       "      <td>Open-World</td>\n",
       "      <td>187.0</td>\n",
       "    </tr>\n",
       "    <tr>\n",
       "      <td>...</td>\n",
       "      <td>...</td>\n",
       "      <td>...</td>\n",
       "      <td>...</td>\n",
       "      <td>...</td>\n",
       "      <td>...</td>\n",
       "      <td>...</td>\n",
       "      <td>...</td>\n",
       "      <td>...</td>\n",
       "      <td>...</td>\n",
       "      <td>...</td>\n",
       "      <td>...</td>\n",
       "    </tr>\n",
       "    <tr>\n",
       "      <td>16496.0</td>\n",
       "      <td>Xbox 360</td>\n",
       "      <td>Teenage Mutant Ninja Turtles: Out of the Shadows</td>\n",
       "      <td>August 28, 2013</td>\n",
       "      <td>The oldest brother, Leonardo is the leader of ...</td>\n",
       "      <td>38.0</td>\n",
       "      <td>3.2</td>\n",
       "      <td>T</td>\n",
       "      <td>Mastiff</td>\n",
       "      <td>First-Person</td>\n",
       "      <td>Arcade</td>\n",
       "      <td>70.0</td>\n",
       "    </tr>\n",
       "    <tr>\n",
       "      <td>16497.0</td>\n",
       "      <td>Wii</td>\n",
       "      <td>Naruto Shippuden: Dragon Blade Chronicles</td>\n",
       "      <td>November 12, 2010</td>\n",
       "      <td>Take control of both Naruto and Sasuke as they...</td>\n",
       "      <td>38.0</td>\n",
       "      <td>3.0</td>\n",
       "      <td>T</td>\n",
       "      <td>Black</td>\n",
       "      <td>Action Adventure</td>\n",
       "      <td>Sci-Fi</td>\n",
       "      <td>68.0</td>\n",
       "    </tr>\n",
       "    <tr>\n",
       "      <td>16498.0</td>\n",
       "      <td>Xbox 360</td>\n",
       "      <td>Vampire Rain</td>\n",
       "      <td>July 3, 2007</td>\n",
       "      <td>You are a part of a Special Forces team tasked...</td>\n",
       "      <td>38.0</td>\n",
       "      <td>5.5</td>\n",
       "      <td>T</td>\n",
       "      <td>Bandai</td>\n",
       "      <td>Fighting</td>\n",
       "      <td>3D</td>\n",
       "      <td>93.0</td>\n",
       "    </tr>\n",
       "    <tr>\n",
       "      <td>16499.0</td>\n",
       "      <td>Xbox 360</td>\n",
       "      <td>Thor: God of Thunder</td>\n",
       "      <td>May 3, 2011</td>\n",
       "      <td>Thor: The Video Game will take players through...</td>\n",
       "      <td>38.0</td>\n",
       "      <td>5.0</td>\n",
       "      <td>M</td>\n",
       "      <td>Nekcom</td>\n",
       "      <td>3D</td>\n",
       "      <td>First-Person</td>\n",
       "      <td>88.0</td>\n",
       "    </tr>\n",
       "    <tr>\n",
       "      <td>16500.0</td>\n",
       "      <td>Xbox One</td>\n",
       "      <td>Project Root</td>\n",
       "      <td>April 29, 2015</td>\n",
       "      <td>Ending Demetrio Watts is in the hands of a gro...</td>\n",
       "      <td>38.0</td>\n",
       "      <td>5.7</td>\n",
       "      <td>T</td>\n",
       "      <td>EA</td>\n",
       "      <td>Fantasy</td>\n",
       "      <td>Arcade</td>\n",
       "      <td>95.0</td>\n",
       "    </tr>\n",
       "  </tbody>\n",
       "</table>\n",
       "<p>15219 rows × 11 columns</p>\n",
       "</div>"
      ],
      "text/plain": [
       "                konzola                                            naslov  \\\n",
       "stevilka                                                                    \n",
       "1.0         Nintendo 64              The Legend of Zelda: Ocarina of Time   \n",
       "2.0         Playstation                          Tony Hawk's Pro Skater 2   \n",
       "3.0       Playstation 3                               Grand Theft Auto IV   \n",
       "4.0           Dreamcast                                       SoulCalibur   \n",
       "5.0            Xbox 360                               Grand Theft Auto IV   \n",
       "...                 ...                                               ...   \n",
       "16496.0        Xbox 360  Teenage Mutant Ninja Turtles: Out of the Shadows   \n",
       "16497.0             Wii         Naruto Shippuden: Dragon Blade Chronicles   \n",
       "16498.0        Xbox 360                                      Vampire Rain   \n",
       "16499.0        Xbox 360                              Thor: God of Thunder   \n",
       "16500.0        Xbox One                                      Project Root   \n",
       "\n",
       "                Datum_izdaje  \\\n",
       "stevilka                       \n",
       "1.0        November 23, 1998   \n",
       "2.0       September 20, 2000   \n",
       "3.0           April 29, 2008   \n",
       "4.0        September 8, 1999   \n",
       "5.0           April 29, 2008   \n",
       "...                      ...   \n",
       "16496.0      August 28, 2013   \n",
       "16497.0    November 12, 2010   \n",
       "16498.0         July 3, 2007   \n",
       "16499.0          May 3, 2011   \n",
       "16500.0       April 29, 2015   \n",
       "\n",
       "                                                   povzetek  Metascore  \\\n",
       "stevilka                                                                 \n",
       "1.0       As a young boy, Link is tricked by Ganondorf, ...       98.0   \n",
       "2.0       As most major publishers' development efforts ...       98.0   \n",
       "3.0       [Metacritic's 2008 PS3 Game of the Year; Also ...       98.0   \n",
       "4.0       This is a tale of souls and swords, transcendi...       98.0   \n",
       "5.0       [Metacritic's 2008 Xbox 360 Game of the Year; ...       97.0   \n",
       "...                                                     ...        ...   \n",
       "16496.0   The oldest brother, Leonardo is the leader of ...       38.0   \n",
       "16497.0   Take control of both Naruto and Sasuke as they...       38.0   \n",
       "16498.0   You are a part of a Special Forces team tasked...       38.0   \n",
       "16499.0   Thor: The Video Game will take players through...       38.0   \n",
       "16500.0   Ending Demetrio Watts is in the hands of a gro...       38.0   \n",
       "\n",
       "          Ocena_uporabnikov ESBR   Založnik            1.žanr         2.žanr  \\\n",
       "stevilka                                                                       \n",
       "1.0                     7.5    E   Nintendo  Action Adventure        Fantasy   \n",
       "2.0                     7.5    T  Neversoft       Alternative  Skateboarding   \n",
       "3.0                     8.6    M   Rockstar            Modern     Open-World   \n",
       "4.0                     7.9    T      Namco          Fighting             3D   \n",
       "5.0                     9.0    M   Rockstar            Modern     Open-World   \n",
       "...                     ...  ...        ...               ...            ...   \n",
       "16496.0                 3.2    T    Mastiff      First-Person         Arcade   \n",
       "16497.0                 3.0    T      Black  Action Adventure         Sci-Fi   \n",
       "16498.0                 5.5    T     Bandai          Fighting             3D   \n",
       "16499.0                 5.0    M     Nekcom                3D   First-Person   \n",
       "16500.0                 5.7    T         EA           Fantasy         Arcade   \n",
       "\n",
       "          Skupna ocena  \n",
       "stevilka                \n",
       "1.0              173.0  \n",
       "2.0              173.0  \n",
       "3.0              184.0  \n",
       "4.0              177.0  \n",
       "5.0              187.0  \n",
       "...                ...  \n",
       "16496.0           70.0  \n",
       "16497.0           68.0  \n",
       "16498.0           93.0  \n",
       "16499.0           88.0  \n",
       "16500.0           95.0  \n",
       "\n",
       "[15219 rows x 11 columns]"
      ]
     },
     "execution_count": 28,
     "metadata": {},
     "output_type": "execute_result"
    }
   ],
   "source": [
    "igre['Metascore'] = pd.to_numeric(igre['Metascore'])\n",
    "igre['Ocena_uporabnikov'] = pd.to_numeric(igre['Ocena_uporabnikov'])\n",
    "igre['Skupna ocena'] = igre['Metascore'] + igre['Ocena_uporabnikov']*10\n",
    "igre"
   ]
  },
  {
   "cell_type": "code",
   "execution_count": 29,
   "metadata": {},
   "outputs": [],
   "source": [
    "igre['Datum'] = pd.to_datetime(igre['Datum_izdaje'])\n"
   ]
  },
  {
   "cell_type": "code",
   "execution_count": 30,
   "metadata": {},
   "outputs": [
    {
     "data": {
      "text/html": [
       "<div>\n",
       "<style scoped>\n",
       "    .dataframe tbody tr th:only-of-type {\n",
       "        vertical-align: middle;\n",
       "    }\n",
       "\n",
       "    .dataframe tbody tr th {\n",
       "        vertical-align: top;\n",
       "    }\n",
       "\n",
       "    .dataframe thead th {\n",
       "        text-align: right;\n",
       "    }\n",
       "</style>\n",
       "<table border=\"1\" class=\"dataframe\">\n",
       "  <thead>\n",
       "    <tr style=\"text-align: right;\">\n",
       "      <th></th>\n",
       "      <th>konzola</th>\n",
       "      <th>naslov</th>\n",
       "      <th>povzetek</th>\n",
       "      <th>Metascore</th>\n",
       "      <th>Ocena_uporabnikov</th>\n",
       "      <th>ESBR</th>\n",
       "      <th>Založnik</th>\n",
       "      <th>1.žanr</th>\n",
       "      <th>2.žanr</th>\n",
       "      <th>Skupna ocena</th>\n",
       "      <th>Datum</th>\n",
       "    </tr>\n",
       "    <tr>\n",
       "      <th>stevilka</th>\n",
       "      <th></th>\n",
       "      <th></th>\n",
       "      <th></th>\n",
       "      <th></th>\n",
       "      <th></th>\n",
       "      <th></th>\n",
       "      <th></th>\n",
       "      <th></th>\n",
       "      <th></th>\n",
       "      <th></th>\n",
       "      <th></th>\n",
       "    </tr>\n",
       "  </thead>\n",
       "  <tbody>\n",
       "    <tr>\n",
       "      <td>1.0</td>\n",
       "      <td>Nintendo 64</td>\n",
       "      <td>The Legend of Zelda: Ocarina of Time</td>\n",
       "      <td>As a young boy, Link is tricked by Ganondorf, ...</td>\n",
       "      <td>98.0</td>\n",
       "      <td>7.5</td>\n",
       "      <td>E</td>\n",
       "      <td>Nintendo</td>\n",
       "      <td>Action Adventure</td>\n",
       "      <td>Fantasy</td>\n",
       "      <td>173.0</td>\n",
       "      <td>1998-11-23</td>\n",
       "    </tr>\n",
       "    <tr>\n",
       "      <td>2.0</td>\n",
       "      <td>Playstation</td>\n",
       "      <td>Tony Hawk's Pro Skater 2</td>\n",
       "      <td>As most major publishers' development efforts ...</td>\n",
       "      <td>98.0</td>\n",
       "      <td>7.5</td>\n",
       "      <td>T</td>\n",
       "      <td>Neversoft</td>\n",
       "      <td>Alternative</td>\n",
       "      <td>Skateboarding</td>\n",
       "      <td>173.0</td>\n",
       "      <td>2000-09-20</td>\n",
       "    </tr>\n",
       "    <tr>\n",
       "      <td>3.0</td>\n",
       "      <td>Playstation 3</td>\n",
       "      <td>Grand Theft Auto IV</td>\n",
       "      <td>[Metacritic's 2008 PS3 Game of the Year; Also ...</td>\n",
       "      <td>98.0</td>\n",
       "      <td>8.6</td>\n",
       "      <td>M</td>\n",
       "      <td>Rockstar</td>\n",
       "      <td>Modern</td>\n",
       "      <td>Open-World</td>\n",
       "      <td>184.0</td>\n",
       "      <td>2008-04-29</td>\n",
       "    </tr>\n",
       "    <tr>\n",
       "      <td>4.0</td>\n",
       "      <td>Dreamcast</td>\n",
       "      <td>SoulCalibur</td>\n",
       "      <td>This is a tale of souls and swords, transcendi...</td>\n",
       "      <td>98.0</td>\n",
       "      <td>7.9</td>\n",
       "      <td>T</td>\n",
       "      <td>Namco</td>\n",
       "      <td>Fighting</td>\n",
       "      <td>3D</td>\n",
       "      <td>177.0</td>\n",
       "      <td>1999-09-08</td>\n",
       "    </tr>\n",
       "    <tr>\n",
       "      <td>5.0</td>\n",
       "      <td>Xbox 360</td>\n",
       "      <td>Grand Theft Auto IV</td>\n",
       "      <td>[Metacritic's 2008 Xbox 360 Game of the Year; ...</td>\n",
       "      <td>97.0</td>\n",
       "      <td>9.0</td>\n",
       "      <td>M</td>\n",
       "      <td>Rockstar</td>\n",
       "      <td>Modern</td>\n",
       "      <td>Open-World</td>\n",
       "      <td>187.0</td>\n",
       "      <td>2008-04-29</td>\n",
       "    </tr>\n",
       "    <tr>\n",
       "      <td>...</td>\n",
       "      <td>...</td>\n",
       "      <td>...</td>\n",
       "      <td>...</td>\n",
       "      <td>...</td>\n",
       "      <td>...</td>\n",
       "      <td>...</td>\n",
       "      <td>...</td>\n",
       "      <td>...</td>\n",
       "      <td>...</td>\n",
       "      <td>...</td>\n",
       "      <td>...</td>\n",
       "    </tr>\n",
       "    <tr>\n",
       "      <td>16496.0</td>\n",
       "      <td>Xbox 360</td>\n",
       "      <td>Teenage Mutant Ninja Turtles: Out of the Shadows</td>\n",
       "      <td>The oldest brother, Leonardo is the leader of ...</td>\n",
       "      <td>38.0</td>\n",
       "      <td>3.2</td>\n",
       "      <td>T</td>\n",
       "      <td>Mastiff</td>\n",
       "      <td>First-Person</td>\n",
       "      <td>Arcade</td>\n",
       "      <td>70.0</td>\n",
       "      <td>2013-08-28</td>\n",
       "    </tr>\n",
       "    <tr>\n",
       "      <td>16497.0</td>\n",
       "      <td>Wii</td>\n",
       "      <td>Naruto Shippuden: Dragon Blade Chronicles</td>\n",
       "      <td>Take control of both Naruto and Sasuke as they...</td>\n",
       "      <td>38.0</td>\n",
       "      <td>3.0</td>\n",
       "      <td>T</td>\n",
       "      <td>Black</td>\n",
       "      <td>Action Adventure</td>\n",
       "      <td>Sci-Fi</td>\n",
       "      <td>68.0</td>\n",
       "      <td>2010-11-12</td>\n",
       "    </tr>\n",
       "    <tr>\n",
       "      <td>16498.0</td>\n",
       "      <td>Xbox 360</td>\n",
       "      <td>Vampire Rain</td>\n",
       "      <td>You are a part of a Special Forces team tasked...</td>\n",
       "      <td>38.0</td>\n",
       "      <td>5.5</td>\n",
       "      <td>T</td>\n",
       "      <td>Bandai</td>\n",
       "      <td>Fighting</td>\n",
       "      <td>3D</td>\n",
       "      <td>93.0</td>\n",
       "      <td>2007-07-03</td>\n",
       "    </tr>\n",
       "    <tr>\n",
       "      <td>16499.0</td>\n",
       "      <td>Xbox 360</td>\n",
       "      <td>Thor: God of Thunder</td>\n",
       "      <td>Thor: The Video Game will take players through...</td>\n",
       "      <td>38.0</td>\n",
       "      <td>5.0</td>\n",
       "      <td>M</td>\n",
       "      <td>Nekcom</td>\n",
       "      <td>3D</td>\n",
       "      <td>First-Person</td>\n",
       "      <td>88.0</td>\n",
       "      <td>2011-05-03</td>\n",
       "    </tr>\n",
       "    <tr>\n",
       "      <td>16500.0</td>\n",
       "      <td>Xbox One</td>\n",
       "      <td>Project Root</td>\n",
       "      <td>Ending Demetrio Watts is in the hands of a gro...</td>\n",
       "      <td>38.0</td>\n",
       "      <td>5.7</td>\n",
       "      <td>T</td>\n",
       "      <td>EA</td>\n",
       "      <td>Fantasy</td>\n",
       "      <td>Arcade</td>\n",
       "      <td>95.0</td>\n",
       "      <td>2015-04-29</td>\n",
       "    </tr>\n",
       "  </tbody>\n",
       "</table>\n",
       "<p>15219 rows × 11 columns</p>\n",
       "</div>"
      ],
      "text/plain": [
       "                konzola                                            naslov  \\\n",
       "stevilka                                                                    \n",
       "1.0         Nintendo 64              The Legend of Zelda: Ocarina of Time   \n",
       "2.0         Playstation                          Tony Hawk's Pro Skater 2   \n",
       "3.0       Playstation 3                               Grand Theft Auto IV   \n",
       "4.0           Dreamcast                                       SoulCalibur   \n",
       "5.0            Xbox 360                               Grand Theft Auto IV   \n",
       "...                 ...                                               ...   \n",
       "16496.0        Xbox 360  Teenage Mutant Ninja Turtles: Out of the Shadows   \n",
       "16497.0             Wii         Naruto Shippuden: Dragon Blade Chronicles   \n",
       "16498.0        Xbox 360                                      Vampire Rain   \n",
       "16499.0        Xbox 360                              Thor: God of Thunder   \n",
       "16500.0        Xbox One                                      Project Root   \n",
       "\n",
       "                                                   povzetek  Metascore  \\\n",
       "stevilka                                                                 \n",
       "1.0       As a young boy, Link is tricked by Ganondorf, ...       98.0   \n",
       "2.0       As most major publishers' development efforts ...       98.0   \n",
       "3.0       [Metacritic's 2008 PS3 Game of the Year; Also ...       98.0   \n",
       "4.0       This is a tale of souls and swords, transcendi...       98.0   \n",
       "5.0       [Metacritic's 2008 Xbox 360 Game of the Year; ...       97.0   \n",
       "...                                                     ...        ...   \n",
       "16496.0   The oldest brother, Leonardo is the leader of ...       38.0   \n",
       "16497.0   Take control of both Naruto and Sasuke as they...       38.0   \n",
       "16498.0   You are a part of a Special Forces team tasked...       38.0   \n",
       "16499.0   Thor: The Video Game will take players through...       38.0   \n",
       "16500.0   Ending Demetrio Watts is in the hands of a gro...       38.0   \n",
       "\n",
       "          Ocena_uporabnikov ESBR   Založnik            1.žanr         2.žanr  \\\n",
       "stevilka                                                                       \n",
       "1.0                     7.5    E   Nintendo  Action Adventure        Fantasy   \n",
       "2.0                     7.5    T  Neversoft       Alternative  Skateboarding   \n",
       "3.0                     8.6    M   Rockstar            Modern     Open-World   \n",
       "4.0                     7.9    T      Namco          Fighting             3D   \n",
       "5.0                     9.0    M   Rockstar            Modern     Open-World   \n",
       "...                     ...  ...        ...               ...            ...   \n",
       "16496.0                 3.2    T    Mastiff      First-Person         Arcade   \n",
       "16497.0                 3.0    T      Black  Action Adventure         Sci-Fi   \n",
       "16498.0                 5.5    T     Bandai          Fighting             3D   \n",
       "16499.0                 5.0    M     Nekcom                3D   First-Person   \n",
       "16500.0                 5.7    T         EA           Fantasy         Arcade   \n",
       "\n",
       "          Skupna ocena      Datum  \n",
       "stevilka                           \n",
       "1.0              173.0 1998-11-23  \n",
       "2.0              173.0 2000-09-20  \n",
       "3.0              184.0 2008-04-29  \n",
       "4.0              177.0 1999-09-08  \n",
       "5.0              187.0 2008-04-29  \n",
       "...                ...        ...  \n",
       "16496.0           70.0 2013-08-28  \n",
       "16497.0           68.0 2010-11-12  \n",
       "16498.0           93.0 2007-07-03  \n",
       "16499.0           88.0 2011-05-03  \n",
       "16500.0           95.0 2015-04-29  \n",
       "\n",
       "[15219 rows x 11 columns]"
      ]
     },
     "execution_count": 30,
     "metadata": {},
     "output_type": "execute_result"
    }
   ],
   "source": [
    "igre.drop(columns='Datum_izdaje')"
   ]
  },
  {
   "cell_type": "code",
   "execution_count": 31,
   "metadata": {},
   "outputs": [
    {
     "data": {
      "text/plain": [
       "<matplotlib.axes._subplots.AxesSubplot at 0x17747110>"
      ]
     },
     "execution_count": 31,
     "metadata": {},
     "output_type": "execute_result"
    },
    {
     "data": {
      "image/png": "[encoded data removed]",
      "text/plain": [
       "<Figure size 432x288 with 1 Axes>"
      ]
     },
     "metadata": {
      "needs_background": "light"
     },
     "output_type": "display_data"
    }
   ],
   "source": [
    "igre['Skupna ocena'].hist()\n",
    "igre['Metascore'].hist()"
   ]
  },
  {
   "cell_type": "code",
   "execution_count": 32,
   "metadata": {},
   "outputs": [
    {
     "data": {
      "text/plain": [
       "<matplotlib.axes._subplots.AxesSubplot at 0x176ece50>"
      ]
     },
     "execution_count": 32,
     "metadata": {},
     "output_type": "execute_result"
    },
    {
     "data": {
      "image/png": "[encoded data removed]",
      "text/plain": [
       "<Figure size 432x288 with 1 Axes>"
      ]
     },
     "metadata": {
      "needs_background": "light"
     },
     "output_type": "display_data"
    }
   ],
   "source": [
    "konzole = igre.groupby('konzola').size()\n",
    "konzole.plot.bar()"
   ]
  },
  {
   "cell_type": "code",
   "execution_count": 33,
   "metadata": {},
   "outputs": [
    {
     "data": {
      "text/plain": [
       "<matplotlib.axes._subplots.AxesSubplot at 0x1769ce90>"
      ]
     },
     "execution_count": 33,
     "metadata": {},
     "output_type": "execute_result"
    },
    {
     "data": {
      "image/png": "[encoded data removed]",
      "text/plain": [
       "<Figure size 432x288 with 1 Axes>"
      ]
     },
     "metadata": {
      "needs_background": "light"
     },
     "output_type": "display_data"
    }
   ],
   "source": [
    "vsota = igre.groupby(igre['Datum'].dt.year.rename('Leto')).count()\n",
    "vsota['Datum'].plot.bar()"
   ]
  },
  {
   "cell_type": "code",
   "execution_count": 34,
   "metadata": {},
   "outputs": [
    {
     "data": {
      "text/plain": [
       "<matplotlib.axes._subplots.AxesSubplot at 0x1762a670>"
      ]
     },
     "execution_count": 34,
     "metadata": {},
     "output_type": "execute_result"
    },
    {
     "data": {
      "image/png": "[encoded data removed]",
      "text/plain": [
       "<Figure size 432x288 with 1 Axes>"
      ]
     },
     "metadata": {
      "needs_background": "light"
     },
     "output_type": "display_data"
    }
   ],
   "source": [
    "sumarija = igre.groupby([igre['Datum'].dt.month.rename('Mesec')]).agg({'count'})[['Datum']]\n",
    "sumarija.plot.bar()"
   ]
  },
  {
   "cell_type": "code",
   "execution_count": 35,
   "metadata": {},
   "outputs": [
    {
     "data": {
      "text/plain": [
       "<matplotlib.axes._subplots.AxesSubplot at 0x1757f910>"
      ]
     },
     "execution_count": 35,
     "metadata": {},
     "output_type": "execute_result"
    },
    {
     "data": {
      "image/png": "[encoded data removed]",
      "text/plain": [
       "<Figure size 432x288 with 1 Axes>"
      ]
     },
     "metadata": {
      "needs_background": "light"
     },
     "output_type": "display_data"
    },
    {
     "data": {
      "image/png": "[encoded data removed]",
      "text/plain": [
       "<Figure size 432x288 with 1 Axes>"
      ]
     },
     "metadata": {
      "needs_background": "light"
     },
     "output_type": "display_data"
    }
   ],
   "source": [
    "igre1 = igre.drop(columns='Skupna ocena')\n",
    "igre2 = igre1.drop(columns='Metascore')\n",
    "igre3 = igre1.drop(columns='Ocena_uporabnikov')\n",
    "igre2.groupby([igre['Datum'].dt.year.rename('Leto')]).agg({'mean'}).plot.bar()\n",
    "igre3.groupby([igre['Datum'].dt.year.rename('Leto')]).agg({'mean'}).plot.bar()"
   ]
  },
  {
   "cell_type": "code",
   "execution_count": 37,
   "metadata": {},
   "outputs": [
    {
     "data": {
      "image/png": "[encoded data removed]",
      "text/plain": [
       "<Figure size 792x720 with 3 Axes>"
      ]
     },
     "metadata": {
      "needs_background": "light"
     },
     "output_type": "display_data"
    }
   ],
   "source": [
    "fig, axes = plt.subplots(3, 1, figsize=(11, 10), sharex=True)"
   ]
  },
  {
   "cell_type": "code",
   "execution_count": 38,
   "metadata": {
    "scrolled": false
   },
   "outputs": [
    {
     "data": {
      "text/plain": [
       "23988.0"
      ]
     },
     "execution_count": 38,
     "metadata": {},
     "output_type": "execute_result"
    }
   ],
   "source": [
    "(igre.groupby(['1.žanr']).size() + igre.groupby(['2.žanr']).size()).sum()\n",
    "\n"
   ]
  },
  {
   "cell_type": "code",
   "execution_count": 39,
   "metadata": {},
   "outputs": [
    {
     "data": {
      "text/plain": [
       "2.žanr         1.žanr      \n",
       "2D             2D              312\n",
       "               3D                6\n",
       "               Action           94\n",
       "               Action RPG        5\n",
       "               Compilation      10\n",
       "                              ... \n",
       "Western-Style  Roguelike         3\n",
       "               Role-Playing    102\n",
       "Wrestling      3D                1\n",
       "               Combat           55\n",
       "               Fighting         43\n",
       "Length: 535, dtype: int64"
      ]
     },
     "execution_count": 39,
     "metadata": {},
     "output_type": "execute_result"
    }
   ],
   "source": [
    "igre.groupby(['2.žanr', '1.žanr']).size()\n"
   ]
  },
  {
   "cell_type": "code",
   "execution_count": 40,
   "metadata": {},
   "outputs": [
    {
     "data": {
      "text/plain": [
       "Založnik\n",
       "The    109\n",
       "dtype: int64"
      ]
     },
     "execution_count": 40,
     "metadata": {},
     "output_type": "execute_result"
    }
   ],
   "source": [
    "igre[igre['Založnik'] == 'The'].groupby(['Založnik']).size()"
   ]
  },
  {
   "cell_type": "code",
   "execution_count": 41,
   "metadata": {},
   "outputs": [
    {
     "data": {
      "text/plain": [
       "1.žanr            2.žanr     \n",
       "Matching          Action           1\n",
       "Edutainment       Application      1\n",
       "Hidden Object     Puzzle           1\n",
       "Historic          3D               1\n",
       "Party             Compilation      1\n",
       "                                ... \n",
       "Action Adventure  General        317\n",
       "Sim               Sim            326\n",
       "Role-Playing      Action RPG     351\n",
       "Sci-Fi            Arcade         352\n",
       "Platformer        2D             516\n",
       "Length: 430, dtype: int64"
      ]
     },
     "execution_count": 41,
     "metadata": {},
     "output_type": "execute_result"
    }
   ],
   "source": [
    "igre.groupby(['1.žanr', '2.žanr']).size().drop(labels=['3D', '2D', 'General', 'Modern', 'Arcade', 'Compilation']).sort_values()\n"
   ]
  },
  {
   "cell_type": "code",
   "execution_count": 42,
   "metadata": {},
   "outputs": [
    {
     "data": {
      "text/plain": [
       "1.žanr\n",
       "Action               531\n",
       "Action Adventure    1083\n",
       "Action RPG           242\n",
       "Adventure            320\n",
       "Alternative          123\n",
       "                    ... \n",
       "WWII                  28\n",
       "Wakeboarding           1\n",
       "Wargame                6\n",
       "Western-Style          1\n",
       "Wrestling              2\n",
       "Length: 124, dtype: int64"
      ]
     },
     "execution_count": 42,
     "metadata": {},
     "output_type": "execute_result"
    }
   ],
   "source": [
    "vsota1 =  igre.groupby(['1.žanr']).size().drop(labels=['3D', '2D', 'General', 'Modern', 'Arcade', 'Compilation'])\n",
    "vsota1"
   ]
  },
  {
   "cell_type": "code",
   "execution_count": 43,
   "metadata": {},
   "outputs": [
    {
     "data": {
      "text/plain": [
       "2.žanr\n",
       "4X                47\n",
       "Action           131\n",
       "Action RPG       602\n",
       "Adventure         16\n",
       "Application       11\n",
       "                ... \n",
       "WWI                1\n",
       "WWII              10\n",
       "Wakeboarding       4\n",
       "Western-Style    196\n",
       "Wrestling         99\n",
       "Length: 112, dtype: int64"
      ]
     },
     "execution_count": 43,
     "metadata": {},
     "output_type": "execute_result"
    }
   ],
   "source": [
    "vsota2 = igre.groupby(['2.žanr']).size().drop(labels=['3D', '2D', 'General', 'Modern', 'Arcade', 'Compilation'])\n",
    "vsota2"
   ]
  },
  {
   "cell_type": "code",
   "execution_count": 44,
   "metadata": {},
   "outputs": [],
   "source": [
    "vsota = vsota2.add(vsota1, fill_value=0)"
   ]
  },
  {
   "cell_type": "code",
   "execution_count": 45,
   "metadata": {},
   "outputs": [],
   "source": [
    "ind = vsota > 300"
   ]
  },
  {
   "cell_type": "code",
   "execution_count": 46,
   "metadata": {},
   "outputs": [
    {
     "data": {
      "text/plain": [
       "Action               662.0\n",
       "Action Adventure    1083.0\n",
       "Action RPG           844.0\n",
       "Adventure            336.0\n",
       "Automobile           550.0\n",
       "Fantasy              988.0\n",
       "First-Person         600.0\n",
       "Historic             495.0\n",
       "Music                370.0\n",
       "Open-World           380.0\n",
       "Platformer           759.0\n",
       "Puzzle               393.0\n",
       "Role-Playing         789.0\n",
       "Sci-Fi               939.0\n",
       "Sim                 1061.0\n",
       "Survival             306.0\n",
       "Third-Person         434.0\n",
       "dtype: float64"
      ]
     },
     "execution_count": 46,
     "metadata": {},
     "output_type": "execute_result"
    }
   ],
   "source": [
    "vsota[ind]"
   ]
  },
  {
   "cell_type": "code",
   "execution_count": 47,
   "metadata": {},
   "outputs": [
    {
     "ename": "KeyError",
     "evalue": "\"['3D' '2D' 'General'] not found in axis\"",
     "output_type": "error",
     "traceback": [
      "\u001b[1;31m---------------------------------------------------------------------------\u001b[0m",
      "\u001b[1;31mKeyError\u001b[0m                                  Traceback (most recent call last)",
      "\u001b[1;32m<ipython-input-47-20e82e8e949c>\u001b[0m in \u001b[0;36m<module>\u001b[1;34m\u001b[0m\n\u001b[1;32m----> 1\u001b[1;33m \u001b[0mvsota\u001b[0m\u001b[1;33m.\u001b[0m\u001b[0mdrop\u001b[0m\u001b[1;33m(\u001b[0m\u001b[0mlabels\u001b[0m\u001b[1;33m=\u001b[0m\u001b[1;33m[\u001b[0m\u001b[1;34m'3D'\u001b[0m\u001b[1;33m,\u001b[0m \u001b[1;34m'2D'\u001b[0m\u001b[1;33m,\u001b[0m \u001b[1;34m'General'\u001b[0m\u001b[1;33m]\u001b[0m\u001b[1;33m)\u001b[0m\u001b[1;33m\u001b[0m\u001b[1;33m\u001b[0m\u001b[0m\n\u001b[0m",
      "\u001b[1;32mc:\\users\\zankr\\appdata\\local\\programs\\python\\python37-32\\lib\\site-packages\\pandas\\core\\series.py\u001b[0m in \u001b[0;36mdrop\u001b[1;34m(self, labels, axis, index, columns, level, inplace, errors)\u001b[0m\n\u001b[0;32m   4321\u001b[0m             \u001b[0mlevel\u001b[0m\u001b[1;33m=\u001b[0m\u001b[0mlevel\u001b[0m\u001b[1;33m,\u001b[0m\u001b[1;33m\u001b[0m\u001b[1;33m\u001b[0m\u001b[0m\n\u001b[0;32m   4322\u001b[0m             \u001b[0minplace\u001b[0m\u001b[1;33m=\u001b[0m\u001b[0minplace\u001b[0m\u001b[1;33m,\u001b[0m\u001b[1;33m\u001b[0m\u001b[1;33m\u001b[0m\u001b[0m\n\u001b[1;32m-> 4323\u001b[1;33m             \u001b[0merrors\u001b[0m\u001b[1;33m=\u001b[0m\u001b[0merrors\u001b[0m\u001b[1;33m,\u001b[0m\u001b[1;33m\u001b[0m\u001b[1;33m\u001b[0m\u001b[0m\n\u001b[0m\u001b[0;32m   4324\u001b[0m         )\n\u001b[0;32m   4325\u001b[0m \u001b[1;33m\u001b[0m\u001b[0m\n",
      "\u001b[1;32mc:\\users\\zankr\\appdata\\local\\programs\\python\\python37-32\\lib\\site-packages\\pandas\\core\\generic.py\u001b[0m in \u001b[0;36mdrop\u001b[1;34m(self, labels, axis, index, columns, level, inplace, errors)\u001b[0m\n\u001b[0;32m   3912\u001b[0m         \u001b[1;32mfor\u001b[0m \u001b[0maxis\u001b[0m\u001b[1;33m,\u001b[0m \u001b[0mlabels\u001b[0m \u001b[1;32min\u001b[0m \u001b[0maxes\u001b[0m\u001b[1;33m.\u001b[0m\u001b[0mitems\u001b[0m\u001b[1;33m(\u001b[0m\u001b[1;33m)\u001b[0m\u001b[1;33m:\u001b[0m\u001b[1;33m\u001b[0m\u001b[1;33m\u001b[0m\u001b[0m\n\u001b[0;32m   3913\u001b[0m             \u001b[1;32mif\u001b[0m \u001b[0mlabels\u001b[0m \u001b[1;32mis\u001b[0m \u001b[1;32mnot\u001b[0m \u001b[1;32mNone\u001b[0m\u001b[1;33m:\u001b[0m\u001b[1;33m\u001b[0m\u001b[1;33m\u001b[0m\u001b[0m\n\u001b[1;32m-> 3914\u001b[1;33m                 \u001b[0mobj\u001b[0m \u001b[1;33m=\u001b[0m \u001b[0mobj\u001b[0m\u001b[1;33m.\u001b[0m\u001b[0m_drop_axis\u001b[0m\u001b[1;33m(\u001b[0m\u001b[0mlabels\u001b[0m\u001b[1;33m,\u001b[0m \u001b[0maxis\u001b[0m\u001b[1;33m,\u001b[0m \u001b[0mlevel\u001b[0m\u001b[1;33m=\u001b[0m\u001b[0mlevel\u001b[0m\u001b[1;33m,\u001b[0m \u001b[0merrors\u001b[0m\u001b[1;33m=\u001b[0m\u001b[0merrors\u001b[0m\u001b[1;33m)\u001b[0m\u001b[1;33m\u001b[0m\u001b[1;33m\u001b[0m\u001b[0m\n\u001b[0m\u001b[0;32m   3915\u001b[0m \u001b[1;33m\u001b[0m\u001b[0m\n\u001b[0;32m   3916\u001b[0m         \u001b[1;32mif\u001b[0m \u001b[0minplace\u001b[0m\u001b[1;33m:\u001b[0m\u001b[1;33m\u001b[0m\u001b[1;33m\u001b[0m\u001b[0m\n",
      "\u001b[1;32mc:\\users\\zankr\\appdata\\local\\programs\\python\\python37-32\\lib\\site-packages\\pandas\\core\\generic.py\u001b[0m in \u001b[0;36m_drop_axis\u001b[1;34m(self, labels, axis, level, errors)\u001b[0m\n\u001b[0;32m   3944\u001b[0m                 \u001b[0mnew_axis\u001b[0m \u001b[1;33m=\u001b[0m \u001b[0maxis\u001b[0m\u001b[1;33m.\u001b[0m\u001b[0mdrop\u001b[0m\u001b[1;33m(\u001b[0m\u001b[0mlabels\u001b[0m\u001b[1;33m,\u001b[0m \u001b[0mlevel\u001b[0m\u001b[1;33m=\u001b[0m\u001b[0mlevel\u001b[0m\u001b[1;33m,\u001b[0m \u001b[0merrors\u001b[0m\u001b[1;33m=\u001b[0m\u001b[0merrors\u001b[0m\u001b[1;33m)\u001b[0m\u001b[1;33m\u001b[0m\u001b[1;33m\u001b[0m\u001b[0m\n\u001b[0;32m   3945\u001b[0m             \u001b[1;32melse\u001b[0m\u001b[1;33m:\u001b[0m\u001b[1;33m\u001b[0m\u001b[1;33m\u001b[0m\u001b[0m\n\u001b[1;32m-> 3946\u001b[1;33m                 \u001b[0mnew_axis\u001b[0m \u001b[1;33m=\u001b[0m \u001b[0maxis\u001b[0m\u001b[1;33m.\u001b[0m\u001b[0mdrop\u001b[0m\u001b[1;33m(\u001b[0m\u001b[0mlabels\u001b[0m\u001b[1;33m,\u001b[0m \u001b[0merrors\u001b[0m\u001b[1;33m=\u001b[0m\u001b[0merrors\u001b[0m\u001b[1;33m)\u001b[0m\u001b[1;33m\u001b[0m\u001b[1;33m\u001b[0m\u001b[0m\n\u001b[0m\u001b[0;32m   3947\u001b[0m             \u001b[0mresult\u001b[0m \u001b[1;33m=\u001b[0m \u001b[0mself\u001b[0m\u001b[1;33m.\u001b[0m\u001b[0mreindex\u001b[0m\u001b[1;33m(\u001b[0m\u001b[1;33m**\u001b[0m\u001b[1;33m{\u001b[0m\u001b[0maxis_name\u001b[0m\u001b[1;33m:\u001b[0m \u001b[0mnew_axis\u001b[0m\u001b[1;33m}\u001b[0m\u001b[1;33m)\u001b[0m\u001b[1;33m\u001b[0m\u001b[1;33m\u001b[0m\u001b[0m\n\u001b[0;32m   3948\u001b[0m \u001b[1;33m\u001b[0m\u001b[0m\n",
      "\u001b[1;32mc:\\users\\zankr\\appdata\\local\\programs\\python\\python37-32\\lib\\site-packages\\pandas\\core\\indexes\\base.py\u001b[0m in \u001b[0;36mdrop\u001b[1;34m(self, labels, errors)\u001b[0m\n\u001b[0;32m   5338\u001b[0m         \u001b[1;32mif\u001b[0m \u001b[0mmask\u001b[0m\u001b[1;33m.\u001b[0m\u001b[0many\u001b[0m\u001b[1;33m(\u001b[0m\u001b[1;33m)\u001b[0m\u001b[1;33m:\u001b[0m\u001b[1;33m\u001b[0m\u001b[1;33m\u001b[0m\u001b[0m\n\u001b[0;32m   5339\u001b[0m             \u001b[1;32mif\u001b[0m \u001b[0merrors\u001b[0m \u001b[1;33m!=\u001b[0m \u001b[1;34m\"ignore\"\u001b[0m\u001b[1;33m:\u001b[0m\u001b[1;33m\u001b[0m\u001b[1;33m\u001b[0m\u001b[0m\n\u001b[1;32m-> 5340\u001b[1;33m                 \u001b[1;32mraise\u001b[0m \u001b[0mKeyError\u001b[0m\u001b[1;33m(\u001b[0m\u001b[1;34m\"{} not found in axis\"\u001b[0m\u001b[1;33m.\u001b[0m\u001b[0mformat\u001b[0m\u001b[1;33m(\u001b[0m\u001b[0mlabels\u001b[0m\u001b[1;33m[\u001b[0m\u001b[0mmask\u001b[0m\u001b[1;33m]\u001b[0m\u001b[1;33m)\u001b[0m\u001b[1;33m)\u001b[0m\u001b[1;33m\u001b[0m\u001b[1;33m\u001b[0m\u001b[0m\n\u001b[0m\u001b[0;32m   5341\u001b[0m             \u001b[0mindexer\u001b[0m \u001b[1;33m=\u001b[0m \u001b[0mindexer\u001b[0m\u001b[1;33m[\u001b[0m\u001b[1;33m~\u001b[0m\u001b[0mmask\u001b[0m\u001b[1;33m]\u001b[0m\u001b[1;33m\u001b[0m\u001b[1;33m\u001b[0m\u001b[0m\n\u001b[0;32m   5342\u001b[0m         \u001b[1;32mreturn\u001b[0m \u001b[0mself\u001b[0m\u001b[1;33m.\u001b[0m\u001b[0mdelete\u001b[0m\u001b[1;33m(\u001b[0m\u001b[0mindexer\u001b[0m\u001b[1;33m)\u001b[0m\u001b[1;33m\u001b[0m\u001b[1;33m\u001b[0m\u001b[0m\n",
      "\u001b[1;31mKeyError\u001b[0m: \"['3D' '2D' 'General'] not found in axis\""
     ]
    }
   ],
   "source": [
    "vsota.drop(labels=['3D', '2D', 'General'])"
   ]
  },
  {
   "cell_type": "code",
   "execution_count": 48,
   "metadata": {},
   "outputs": [
    {
     "ename": "KeyError",
     "evalue": "\"['3D' '2D' 'General' 'Modern' 'Arcade' 'Compilation'] not found in axis\"",
     "output_type": "error",
     "traceback": [
      "\u001b[1;31m---------------------------------------------------------------------------\u001b[0m",
      "\u001b[1;31mKeyError\u001b[0m                                  Traceback (most recent call last)",
      "\u001b[1;32m<ipython-input-48-49f8dd5ff94e>\u001b[0m in \u001b[0;36m<module>\u001b[1;34m\u001b[0m\n\u001b[0;32m      1\u001b[0m \u001b[0mvsotaa\u001b[0m \u001b[1;33m=\u001b[0m \u001b[0mvsota\u001b[0m\u001b[1;33m/\u001b[0m\u001b[1;36m16500\u001b[0m\u001b[1;33m\u001b[0m\u001b[1;33m\u001b[0m\u001b[0m\n\u001b[1;32m----> 2\u001b[1;33m \u001b[0mvsotaa\u001b[0m\u001b[1;33m.\u001b[0m\u001b[0mdrop\u001b[0m\u001b[1;33m(\u001b[0m\u001b[0mlabels\u001b[0m\u001b[1;33m=\u001b[0m\u001b[1;33m[\u001b[0m\u001b[1;34m'3D'\u001b[0m\u001b[1;33m,\u001b[0m \u001b[1;34m'2D'\u001b[0m\u001b[1;33m,\u001b[0m \u001b[1;34m'General'\u001b[0m\u001b[1;33m,\u001b[0m \u001b[1;34m'Modern'\u001b[0m\u001b[1;33m,\u001b[0m \u001b[1;34m'Arcade'\u001b[0m\u001b[1;33m,\u001b[0m \u001b[1;34m'Compilation'\u001b[0m\u001b[1;33m]\u001b[0m\u001b[1;33m)\u001b[0m\u001b[1;33m[\u001b[0m\u001b[0mind\u001b[0m\u001b[1;33m]\u001b[0m\u001b[1;33m.\u001b[0m\u001b[0mplot\u001b[0m\u001b[1;33m.\u001b[0m\u001b[0mbar\u001b[0m\u001b[1;33m(\u001b[0m\u001b[1;33m)\u001b[0m\u001b[1;33m\u001b[0m\u001b[1;33m\u001b[0m\u001b[0m\n\u001b[0m\u001b[0;32m      3\u001b[0m \u001b[1;33m\u001b[0m\u001b[0m\n",
      "\u001b[1;32mc:\\users\\zankr\\appdata\\local\\programs\\python\\python37-32\\lib\\site-packages\\pandas\\core\\series.py\u001b[0m in \u001b[0;36mdrop\u001b[1;34m(self, labels, axis, index, columns, level, inplace, errors)\u001b[0m\n\u001b[0;32m   4321\u001b[0m             \u001b[0mlevel\u001b[0m\u001b[1;33m=\u001b[0m\u001b[0mlevel\u001b[0m\u001b[1;33m,\u001b[0m\u001b[1;33m\u001b[0m\u001b[1;33m\u001b[0m\u001b[0m\n\u001b[0;32m   4322\u001b[0m             \u001b[0minplace\u001b[0m\u001b[1;33m=\u001b[0m\u001b[0minplace\u001b[0m\u001b[1;33m,\u001b[0m\u001b[1;33m\u001b[0m\u001b[1;33m\u001b[0m\u001b[0m\n\u001b[1;32m-> 4323\u001b[1;33m             \u001b[0merrors\u001b[0m\u001b[1;33m=\u001b[0m\u001b[0merrors\u001b[0m\u001b[1;33m,\u001b[0m\u001b[1;33m\u001b[0m\u001b[1;33m\u001b[0m\u001b[0m\n\u001b[0m\u001b[0;32m   4324\u001b[0m         )\n\u001b[0;32m   4325\u001b[0m \u001b[1;33m\u001b[0m\u001b[0m\n",
      "\u001b[1;32mc:\\users\\zankr\\appdata\\local\\programs\\python\\python37-32\\lib\\site-packages\\pandas\\core\\generic.py\u001b[0m in \u001b[0;36mdrop\u001b[1;34m(self, labels, axis, index, columns, level, inplace, errors)\u001b[0m\n\u001b[0;32m   3912\u001b[0m         \u001b[1;32mfor\u001b[0m \u001b[0maxis\u001b[0m\u001b[1;33m,\u001b[0m \u001b[0mlabels\u001b[0m \u001b[1;32min\u001b[0m \u001b[0maxes\u001b[0m\u001b[1;33m.\u001b[0m\u001b[0mitems\u001b[0m\u001b[1;33m(\u001b[0m\u001b[1;33m)\u001b[0m\u001b[1;33m:\u001b[0m\u001b[1;33m\u001b[0m\u001b[1;33m\u001b[0m\u001b[0m\n\u001b[0;32m   3913\u001b[0m             \u001b[1;32mif\u001b[0m \u001b[0mlabels\u001b[0m \u001b[1;32mis\u001b[0m \u001b[1;32mnot\u001b[0m \u001b[1;32mNone\u001b[0m\u001b[1;33m:\u001b[0m\u001b[1;33m\u001b[0m\u001b[1;33m\u001b[0m\u001b[0m\n\u001b[1;32m-> 3914\u001b[1;33m                 \u001b[0mobj\u001b[0m \u001b[1;33m=\u001b[0m \u001b[0mobj\u001b[0m\u001b[1;33m.\u001b[0m\u001b[0m_drop_axis\u001b[0m\u001b[1;33m(\u001b[0m\u001b[0mlabels\u001b[0m\u001b[1;33m,\u001b[0m \u001b[0maxis\u001b[0m\u001b[1;33m,\u001b[0m \u001b[0mlevel\u001b[0m\u001b[1;33m=\u001b[0m\u001b[0mlevel\u001b[0m\u001b[1;33m,\u001b[0m \u001b[0merrors\u001b[0m\u001b[1;33m=\u001b[0m\u001b[0merrors\u001b[0m\u001b[1;33m)\u001b[0m\u001b[1;33m\u001b[0m\u001b[1;33m\u001b[0m\u001b[0m\n\u001b[0m\u001b[0;32m   3915\u001b[0m \u001b[1;33m\u001b[0m\u001b[0m\n\u001b[0;32m   3916\u001b[0m         \u001b[1;32mif\u001b[0m \u001b[0minplace\u001b[0m\u001b[1;33m:\u001b[0m\u001b[1;33m\u001b[0m\u001b[1;33m\u001b[0m\u001b[0m\n",
      "\u001b[1;32mc:\\users\\zankr\\appdata\\local\\programs\\python\\python37-32\\lib\\site-packages\\pandas\\core\\generic.py\u001b[0m in \u001b[0;36m_drop_axis\u001b[1;34m(self, labels, axis, level, errors)\u001b[0m\n\u001b[0;32m   3944\u001b[0m                 \u001b[0mnew_axis\u001b[0m \u001b[1;33m=\u001b[0m \u001b[0maxis\u001b[0m\u001b[1;33m.\u001b[0m\u001b[0mdrop\u001b[0m\u001b[1;33m(\u001b[0m\u001b[0mlabels\u001b[0m\u001b[1;33m,\u001b[0m \u001b[0mlevel\u001b[0m\u001b[1;33m=\u001b[0m\u001b[0mlevel\u001b[0m\u001b[1;33m,\u001b[0m \u001b[0merrors\u001b[0m\u001b[1;33m=\u001b[0m\u001b[0merrors\u001b[0m\u001b[1;33m)\u001b[0m\u001b[1;33m\u001b[0m\u001b[1;33m\u001b[0m\u001b[0m\n\u001b[0;32m   3945\u001b[0m             \u001b[1;32melse\u001b[0m\u001b[1;33m:\u001b[0m\u001b[1;33m\u001b[0m\u001b[1;33m\u001b[0m\u001b[0m\n\u001b[1;32m-> 3946\u001b[1;33m                 \u001b[0mnew_axis\u001b[0m \u001b[1;33m=\u001b[0m \u001b[0maxis\u001b[0m\u001b[1;33m.\u001b[0m\u001b[0mdrop\u001b[0m\u001b[1;33m(\u001b[0m\u001b[0mlabels\u001b[0m\u001b[1;33m,\u001b[0m \u001b[0merrors\u001b[0m\u001b[1;33m=\u001b[0m\u001b[0merrors\u001b[0m\u001b[1;33m)\u001b[0m\u001b[1;33m\u001b[0m\u001b[1;33m\u001b[0m\u001b[0m\n\u001b[0m\u001b[0;32m   3947\u001b[0m             \u001b[0mresult\u001b[0m \u001b[1;33m=\u001b[0m \u001b[0mself\u001b[0m\u001b[1;33m.\u001b[0m\u001b[0mreindex\u001b[0m\u001b[1;33m(\u001b[0m\u001b[1;33m**\u001b[0m\u001b[1;33m{\u001b[0m\u001b[0maxis_name\u001b[0m\u001b[1;33m:\u001b[0m \u001b[0mnew_axis\u001b[0m\u001b[1;33m}\u001b[0m\u001b[1;33m)\u001b[0m\u001b[1;33m\u001b[0m\u001b[1;33m\u001b[0m\u001b[0m\n\u001b[0;32m   3948\u001b[0m \u001b[1;33m\u001b[0m\u001b[0m\n",
      "\u001b[1;32mc:\\users\\zankr\\appdata\\local\\programs\\python\\python37-32\\lib\\site-packages\\pandas\\core\\indexes\\base.py\u001b[0m in \u001b[0;36mdrop\u001b[1;34m(self, labels, errors)\u001b[0m\n\u001b[0;32m   5338\u001b[0m         \u001b[1;32mif\u001b[0m \u001b[0mmask\u001b[0m\u001b[1;33m.\u001b[0m\u001b[0many\u001b[0m\u001b[1;33m(\u001b[0m\u001b[1;33m)\u001b[0m\u001b[1;33m:\u001b[0m\u001b[1;33m\u001b[0m\u001b[1;33m\u001b[0m\u001b[0m\n\u001b[0;32m   5339\u001b[0m             \u001b[1;32mif\u001b[0m \u001b[0merrors\u001b[0m \u001b[1;33m!=\u001b[0m \u001b[1;34m\"ignore\"\u001b[0m\u001b[1;33m:\u001b[0m\u001b[1;33m\u001b[0m\u001b[1;33m\u001b[0m\u001b[0m\n\u001b[1;32m-> 5340\u001b[1;33m                 \u001b[1;32mraise\u001b[0m \u001b[0mKeyError\u001b[0m\u001b[1;33m(\u001b[0m\u001b[1;34m\"{} not found in axis\"\u001b[0m\u001b[1;33m.\u001b[0m\u001b[0mformat\u001b[0m\u001b[1;33m(\u001b[0m\u001b[0mlabels\u001b[0m\u001b[1;33m[\u001b[0m\u001b[0mmask\u001b[0m\u001b[1;33m]\u001b[0m\u001b[1;33m)\u001b[0m\u001b[1;33m)\u001b[0m\u001b[1;33m\u001b[0m\u001b[1;33m\u001b[0m\u001b[0m\n\u001b[0m\u001b[0;32m   5341\u001b[0m             \u001b[0mindexer\u001b[0m \u001b[1;33m=\u001b[0m \u001b[0mindexer\u001b[0m\u001b[1;33m[\u001b[0m\u001b[1;33m~\u001b[0m\u001b[0mmask\u001b[0m\u001b[1;33m]\u001b[0m\u001b[1;33m\u001b[0m\u001b[1;33m\u001b[0m\u001b[0m\n\u001b[0;32m   5342\u001b[0m         \u001b[1;32mreturn\u001b[0m \u001b[0mself\u001b[0m\u001b[1;33m.\u001b[0m\u001b[0mdelete\u001b[0m\u001b[1;33m(\u001b[0m\u001b[0mindexer\u001b[0m\u001b[1;33m)\u001b[0m\u001b[1;33m\u001b[0m\u001b[1;33m\u001b[0m\u001b[0m\n",
      "\u001b[1;31mKeyError\u001b[0m: \"['3D' '2D' 'General' 'Modern' 'Arcade' 'Compilation'] not found in axis\""
     ]
    }
   ],
   "source": [
    "vsotaa = vsota/16500\n",
    "vsotaa.drop(labels=['3D', '2D', 'General', 'Modern', 'Arcade', 'Compilation'])[ind].plot.bar()\n",
    "\n"
   ]
  },
  {
   "cell_type": "code",
   "execution_count": 49,
   "metadata": {},
   "outputs": [
    {
     "name": "stdout",
     "output_type": "stream",
     "text": [
      "                konzola                              naslov  \\\n",
      "stevilka                                                      \n",
      "23.0                 PC                         Half-Life 2   \n",
      "30.0           Xbox 360                      The Orange Box   \n",
      "31.0                 PC                      The Orange Box   \n",
      "37.0                 PC                           Half-Life   \n",
      "59.0                 PC                            Portal 2   \n",
      "61.0           Xbox 360                            Portal 2   \n",
      "63.0      Playstation 3                            Portal 2   \n",
      "204.0                PC                     Team Fortress 2   \n",
      "374.0              Xbox                         Half-Life 2   \n",
      "406.0                PC                              Portal   \n",
      "431.0          Xbox 360                 Portal: Still Alive   \n",
      "432.0                PC            Half-Life 2: Episode Two   \n",
      "472.0                PC                              Dota 2   \n",
      "550.0          Xbox 360                       Left 4 Dead 2   \n",
      "556.0                PC                         Left 4 Dead   \n",
      "557.0                PC                       Left 4 Dead 2   \n",
      "831.0                PC              Counter-Strike: Source   \n",
      "965.0                PC            Half-Life 2: Episode One   \n",
      "2542.0               PC                        Door Kickers   \n",
      "3888.0               PC              Super Time Force Ultra   \n",
      "3927.0         Xbox 360             Grand Theft Auto Online   \n",
      "4265.0         Xbox 360                         SoulCalibur   \n",
      "4426.0             Xbox                             Gladius   \n",
      "5401.0               PC       Giana Sisters: Twisted Dreams   \n",
      "5856.0    Playstation 4            Blasters of the Universe   \n",
      "6345.0    Playstation 3  LEGO Star Wars III: The Clone Wars   \n",
      "6649.0      Nintendo DS                         Bejeweled 3   \n",
      "7224.0           Switch             Jotun: Valhalla Edition   \n",
      "\n",
      "               Datum_izdaje  \\\n",
      "stevilka                      \n",
      "23.0      November 16, 2004   \n",
      "30.0       October 10, 2007   \n",
      "31.0       October 10, 2007   \n",
      "37.0      November 19, 1998   \n",
      "59.0         April 18, 2011   \n",
      "61.0         April 19, 2011   \n",
      "63.0         April 19, 2011   \n",
      "204.0      October 10, 2007   \n",
      "374.0     November 15, 2005   \n",
      "406.0      October 10, 2007   \n",
      "431.0      October 22, 2008   \n",
      "432.0      October 10, 2007   \n",
      "472.0          July 9, 2013   \n",
      "550.0     November 17, 2009   \n",
      "556.0     November 17, 2008   \n",
      "557.0     November 16, 2009   \n",
      "831.0       October 7, 2004   \n",
      "965.0          June 1, 2006   \n",
      "2542.0     October 20, 2014   \n",
      "3888.0      August 25, 2014   \n",
      "3927.0      October 1, 2013   \n",
      "4265.0         July 2, 2008   \n",
      "4426.0     October 28, 2003   \n",
      "5401.0     October 22, 2012   \n",
      "5856.0    February 27, 2018   \n",
      "6345.0       March 22, 2011   \n",
      "6649.0    November 15, 2011   \n",
      "7224.0       April 27, 2018   \n",
      "\n",
      "                                                   povzetek  Metascore  \\\n",
      "stevilka                                                                 \n",
      "23.0      [Metacritic's 2004 PC Game of the Year]  By ta...       96.0   \n",
      "30.0      Games included in The Orange Box compilation: ...       96.0   \n",
      "31.0      Games included in The Orange Box compilation: ...       96.0   \n",
      "37.0      Half-Life combines great storytelling in the t...       96.0   \n",
      "59.0      Valve is working on a full-length sequel to it...       95.0   \n",
      "61.0      Valve is working on a full-length sequel to it...       95.0   \n",
      "63.0      Portal 2 is the sequel to the title named &quo...       94.0   \n",
      "204.0     Team Fortress 2 (TF2) is the sequel to the gam...       92.0   \n",
      "374.0     The follow-up to Half-Life continues the inten...       90.0   \n",
      "406.0     Portal is a new single player game from Valve....       90.0   \n",
      "431.0     [Xbox Live Arcade]  Portal: Still Alive featur...       90.0   \n",
      "432.0     Half-Life 2: Episode Two is the second in a tr...       90.0   \n",
      "472.0     Dota 2 features the characters and factions fr...       90.0   \n",
      "550.0     Set in the zombie apocalypse, Left 4 Dead 2 (L...       89.0   \n",
      "556.0     Fight together...or die alone. A new and highl...       89.0   \n",
      "557.0     Set in the zombie apocalypse, Left 4 Dead 2 (L...       89.0   \n",
      "831.0     Valve has taken a large selection of the maps ...       88.0   \n",
      "965.0     Half-Life 2: Episode One is an all-new episode...       87.0   \n",
      "2542.0    Door Kickers is a realtime strategy game that ...       83.0   \n",
      "3888.0    Super Time Force is an action-packed platforme...       80.0   \n",
      "3927.0    Grand Theft Auto Online is a dynamic and persi...       80.0   \n",
      "4265.0    [Xbox Live Arcade]  Soulcalibur, the highest M...       79.0   \n",
      "4426.0    The darkness of the Great War has passed, and ...       79.0   \n",
      "5401.0    Project Giana is a platformer with a twist tha...       77.0   \n",
      "5856.0    Features first-person bullet-hell gameplay tha...       76.0   \n",
      "6345.0    LEGO Star Wars III: The Clone Wars will includ...       76.0   \n",
      "6649.0    The biggest, brightest Bejeweled ever! Discove...       75.0   \n",
      "7224.0    In Jotun, you play Thora, a Norse warrior who ...       74.0   \n",
      "\n",
      "          Ocena_uporabnikov ESBR Založnik        1.žanr       2.žanr  \\\n",
      "stevilka                                                               \n",
      "23.0                    7.7    M    Valve        Sci-Fi       Arcade   \n",
      "30.0                    9.2    M    Valve  First-Person       Sci-Fi   \n",
      "31.0                    8.7    M    Valve  First-Person       Sci-Fi   \n",
      "37.0                    9.0    M    Valve        Sci-Fi       Arcade   \n",
      "59.0                    9.0  NaN    Valve        Sci-Fi       Arcade   \n",
      "61.0                    7.4  NaN    Valve        Sci-Fi       Arcade   \n",
      "63.0                    8.7  NaN    Valve        Sci-Fi       Arcade   \n",
      "204.0                   9.1    M    Valve      Tactical       Modern   \n",
      "374.0                   7.3    M    Valve  First-Person       Sci-Fi   \n",
      "406.0                   6.4    T    Valve        Sci-Fi       Arcade   \n",
      "431.0                   9.1    T    Valve        Sci-Fi       Arcade   \n",
      "432.0                   6.4    M    Valve        Sci-Fi       Arcade   \n",
      "472.0                   7.7  NaN    Valve     Real-Time         MOBA   \n",
      "550.0                   8.2    M    Valve        Sci-Fi     Tactical   \n",
      "556.0                   8.4    M    Valve        Sci-Fi       Arcade   \n",
      "557.0                   8.5    M    Valve        Sci-Fi     Tactical   \n",
      "831.0                   9.0    M    Valve        Modern       Modern   \n",
      "965.0                   9.1    M    Valve        Sci-Fi       Arcade   \n",
      "2542.0                  7.5    M    Valve      Tactical       Modern   \n",
      "3888.0                  9.1    M    Valve      Historic       Arcade   \n",
      "3927.0                  7.2    M    Valve      Tactical       Modern   \n",
      "4265.0                  7.0    M    Valve      Tactical       Modern   \n",
      "4426.0                  9.1    T    Valve      Tactical     Historic   \n",
      "5401.0                  8.2  NaN    Valve      Tactical       Modern   \n",
      "5856.0                  7.6    M    Valve        Sci-Fi       Arcade   \n",
      "6345.0                  6.4  NaN    Valve    Turn-Based  Card Battle   \n",
      "6649.0                  7.3    M    Valve        Sci-Fi     Tactical   \n",
      "7224.0                  4.7    M    Valve        Sci-Fi     Tactical   \n",
      "\n",
      "          Skupna ocena      Datum  \n",
      "stevilka                           \n",
      "23.0             173.0 2004-11-16  \n",
      "30.0             188.0 2007-10-10  \n",
      "31.0             183.0 2007-10-10  \n",
      "37.0             186.0 1998-11-19  \n",
      "59.0             185.0 2011-04-18  \n",
      "61.0             169.0 2011-04-19  \n",
      "63.0             181.0 2011-04-19  \n",
      "204.0            183.0 2007-10-10  \n",
      "374.0            163.0 2005-11-15  \n",
      "406.0            154.0 2007-10-10  \n",
      "431.0            181.0 2008-10-22  \n",
      "432.0            154.0 2007-10-10  \n",
      "472.0            167.0 2013-07-09  \n",
      "550.0            171.0 2009-11-17  \n",
      "556.0            173.0 2008-11-17  \n",
      "557.0            174.0 2009-11-16  \n",
      "831.0            178.0 2004-10-07  \n",
      "965.0            178.0 2006-06-01  \n",
      "2542.0           158.0 2014-10-20  \n",
      "3888.0           171.0 2014-08-25  \n",
      "3927.0           152.0 2013-10-01  \n",
      "4265.0           149.0 2008-07-02  \n",
      "4426.0           170.0 2003-10-28  \n",
      "5401.0           159.0 2012-10-22  \n",
      "5856.0           152.0 2018-02-27  \n",
      "6345.0           140.0 2011-03-22  \n",
      "6649.0           148.0 2011-11-15  \n",
      "7224.0           121.0 2018-04-27  \n"
     ]
    },
    {
     "data": {
      "image/png": "[encoded data removed]",
      "text/plain": [
       "<Figure size 432x288 with 1 Axes>"
      ]
     },
     "metadata": {},
     "output_type": "display_data"
    }
   ],
   "source": [
    "zaloz = igre.groupby(['Založnik']).size()\n",
    "zaloz[zaloz>100].plot.pie()\n",
    "igre[igre['Založnik'] == 'Valve'] \n",
    "with pd.option_context('display.max_rows', None, 'display.max_columns', None):  # more options can be specified also\n",
    "    print(igre[igre['Založnik'] == 'Valve'] )"
   ]
  },
  {
   "cell_type": "code",
   "execution_count": 50,
   "metadata": {},
   "outputs": [
    {
     "data": {
      "text/plain": [
       "<matplotlib.axes._subplots.AxesSubplot at 0x19f05530>"
      ]
     },
     "execution_count": 50,
     "metadata": {},
     "output_type": "execute_result"
    },
    {
     "data": {
      "image/png": "[encoded data removed]",
      "text/plain": [
       "<Figure size 432x288 with 1 Axes>"
      ]
     },
     "metadata": {},
     "output_type": "display_data"
    }
   ],
   "source": [
    "igre.groupby('ESBR').size().plot.pie(autopct='%1.0f%%', pctdistance=1.1, labeldistance=1.4, title='ESBR')"
   ]
  },
  {
   "cell_type": "code",
   "execution_count": 51,
   "metadata": {},
   "outputs": [],
   "source": [
    "prava = igre.sort_values('Skupna ocena', ascending= False)"
   ]
  },
  {
   "cell_type": "code",
   "execution_count": 52,
   "metadata": {},
   "outputs": [
    {
     "data": {
      "text/plain": [
       "konzola              28\n",
       "naslov               28\n",
       "Datum_izdaje         28\n",
       "povzetek             28\n",
       "Metascore            28\n",
       "Ocena_uporabnikov    28\n",
       "ESBR                 22\n",
       "Založnik             28\n",
       "1.žanr               28\n",
       "2.žanr               28\n",
       "Skupna ocena         28\n",
       "Datum                28\n",
       "dtype: int64"
      ]
     },
     "execution_count": 52,
     "metadata": {},
     "output_type": "execute_result"
    }
   ],
   "source": [
    "igre[igre['Založnik']=='Valve'].count()"
   ]
  },
  {
   "cell_type": "code",
   "execution_count": 53,
   "metadata": {},
   "outputs": [
    {
     "data": {
      "text/plain": [
       "Založnik\n",
       "Valve                  86.821429\n",
       "Rockstar               84.695652\n",
       "Intelligent Systems    83.588235\n",
       "Rare                   80.096774\n",
       "Blizzard               86.435897\n",
       "                         ...    \n",
       "Krome                  61.571429\n",
       "Cyanide                63.729730\n",
       "THQ                    63.842105\n",
       "Blitz                  60.406250\n",
       "Artificial             57.571429\n",
       "Name: Metascore, Length: 102, dtype: float64"
      ]
     },
     "execution_count": 53,
     "metadata": {},
     "output_type": "execute_result"
    }
   ],
   "source": [
    "felc = igre[igre['Založnik']=='Zen'].groupby('Založnik').mean()\n",
    "\n",
    "zal = zaloz[zaloz>27].reset_index()\n",
    "for zaloznik in zal['Založnik']:\n",
    "    felc = felc.append(igre[igre['Založnik']==zaloznik].groupby('Založnik').mean())\n",
    "felc = felc.sort_values('Skupna ocena', ascending=False)\n",
    "felc.head(30)\n",
    "felc['Metascore']"
   ]
  },
  {
   "cell_type": "code",
   "execution_count": null,
   "metadata": {},
   "outputs": [],
   "source": []
  },
  {
   "cell_type": "code",
   "execution_count": 55,
   "metadata": {},
   "outputs": [
    {
     "data": {
      "text/html": [
       "<div>\n",
       "<style scoped>\n",
       "    .dataframe tbody tr th:only-of-type {\n",
       "        vertical-align: middle;\n",
       "    }\n",
       "\n",
       "    .dataframe tbody tr th {\n",
       "        vertical-align: top;\n",
       "    }\n",
       "\n",
       "    .dataframe thead th {\n",
       "        text-align: right;\n",
       "    }\n",
       "</style>\n",
       "<table border=\"1\" class=\"dataframe\">\n",
       "  <thead>\n",
       "    <tr style=\"text-align: right;\">\n",
       "      <th></th>\n",
       "      <th>Metascore</th>\n",
       "      <th>Ocena_uporabnikov</th>\n",
       "      <th>Skupna ocena</th>\n",
       "    </tr>\n",
       "  </thead>\n",
       "  <tbody>\n",
       "    <tr>\n",
       "      <td>count</td>\n",
       "      <td>15219.000000</td>\n",
       "      <td>15219.000000</td>\n",
       "      <td>15219.000000</td>\n",
       "    </tr>\n",
       "    <tr>\n",
       "      <td>mean</td>\n",
       "      <td>71.635127</td>\n",
       "      <td>7.066010</td>\n",
       "      <td>142.295223</td>\n",
       "    </tr>\n",
       "    <tr>\n",
       "      <td>std</td>\n",
       "      <td>11.471074</td>\n",
       "      <td>1.307092</td>\n",
       "      <td>21.198073</td>\n",
       "    </tr>\n",
       "    <tr>\n",
       "      <td>min</td>\n",
       "      <td>38.000000</td>\n",
       "      <td>0.700000</td>\n",
       "      <td>51.000000</td>\n",
       "    </tr>\n",
       "    <tr>\n",
       "      <td>25%</td>\n",
       "      <td>65.000000</td>\n",
       "      <td>6.400000</td>\n",
       "      <td>130.000000</td>\n",
       "    </tr>\n",
       "    <tr>\n",
       "      <td>50%</td>\n",
       "      <td>73.000000</td>\n",
       "      <td>7.300000</td>\n",
       "      <td>145.000000</td>\n",
       "    </tr>\n",
       "    <tr>\n",
       "      <td>75%</td>\n",
       "      <td>80.000000</td>\n",
       "      <td>8.000000</td>\n",
       "      <td>158.000000</td>\n",
       "    </tr>\n",
       "    <tr>\n",
       "      <td>max</td>\n",
       "      <td>98.000000</td>\n",
       "      <td>9.400000</td>\n",
       "      <td>189.000000</td>\n",
       "    </tr>\n",
       "  </tbody>\n",
       "</table>\n",
       "</div>"
      ],
      "text/plain": [
       "          Metascore  Ocena_uporabnikov  Skupna ocena\n",
       "count  15219.000000       15219.000000  15219.000000\n",
       "mean      71.635127           7.066010    142.295223\n",
       "std       11.471074           1.307092     21.198073\n",
       "min       38.000000           0.700000     51.000000\n",
       "25%       65.000000           6.400000    130.000000\n",
       "50%       73.000000           7.300000    145.000000\n",
       "75%       80.000000           8.000000    158.000000\n",
       "max       98.000000           9.400000    189.000000"
      ]
     },
     "execution_count": 55,
     "metadata": {},
     "output_type": "execute_result"
    }
   ],
   "source": [
    "igre.describe(percentiles=[.25, .5, .75])\n"
   ]
  },
  {
   "cell_type": "code",
   "execution_count": 56,
   "metadata": {},
   "outputs": [
    {
     "name": "stderr",
     "output_type": "stream",
     "text": [
      "c:\\users\\zankr\\appdata\\local\\programs\\python\\python37-32\\lib\\site-packages\\pandas\\core\\ops\\__init__.py:1115: FutureWarning: elementwise comparison failed; returning scalar instead, but in the future will perform elementwise comparison\n",
      "  result = method(y)\n"
     ]
    },
    {
     "data": {
      "text/html": [
       "<div>\n",
       "<style scoped>\n",
       "    .dataframe tbody tr th:only-of-type {\n",
       "        vertical-align: middle;\n",
       "    }\n",
       "\n",
       "    .dataframe tbody tr th {\n",
       "        vertical-align: top;\n",
       "    }\n",
       "\n",
       "    .dataframe thead th {\n",
       "        text-align: right;\n",
       "    }\n",
       "</style>\n",
       "<table border=\"1\" class=\"dataframe\">\n",
       "  <thead>\n",
       "    <tr style=\"text-align: right;\">\n",
       "      <th></th>\n",
       "      <th>konzola</th>\n",
       "      <th>naslov</th>\n",
       "      <th>Datum_izdaje</th>\n",
       "      <th>povzetek</th>\n",
       "      <th>Metascore</th>\n",
       "      <th>Ocena_uporabnikov</th>\n",
       "      <th>ESBR</th>\n",
       "      <th>Založnik</th>\n",
       "      <th>1.žanr</th>\n",
       "      <th>2.žanr</th>\n",
       "      <th>Skupna ocena</th>\n",
       "      <th>Datum</th>\n",
       "    </tr>\n",
       "    <tr>\n",
       "      <th>stevilka</th>\n",
       "      <th></th>\n",
       "      <th></th>\n",
       "      <th></th>\n",
       "      <th></th>\n",
       "      <th></th>\n",
       "      <th></th>\n",
       "      <th></th>\n",
       "      <th></th>\n",
       "      <th></th>\n",
       "      <th></th>\n",
       "      <th></th>\n",
       "      <th></th>\n",
       "    </tr>\n",
       "  </thead>\n",
       "  <tbody>\n",
       "  </tbody>\n",
       "</table>\n",
       "</div>"
      ],
      "text/plain": [
       "Empty DataFrame\n",
       "Columns: [konzola, naslov, Datum_izdaje, povzetek, Metascore, Ocena_uporabnikov, ESBR, Založnik, 1.žanr, 2.žanr, Skupna ocena, Datum]\n",
       "Index: []"
      ]
     },
     "execution_count": 56,
     "metadata": {},
     "output_type": "execute_result"
    }
   ],
   "source": [
    "igre[igre['Ocena_uporabnikov']=='tbd']"
   ]
  },
  {
   "cell_type": "code",
   "execution_count": null,
   "metadata": {},
   "outputs": [],
   "source": []
  },
  {
   "cell_type": "code",
   "execution_count": 57,
   "metadata": {},
   "outputs": [],
   "source": [
    "def highlight_max(s):\n",
    "    is_max = s == s.max()\n",
    "    return ['background-color: yellow' if v else '' for v in is_max]\n",
    "\n",
    "def color_positive_green(val):\n",
    "    color = 'green' if val > 80 else 'black'\n",
    "    return 'color: %s' % color\n",
    "felc = felc.reset_index(drop=True).style.apply(color_positive_green)\n"
   ]
  },
  {
   "cell_type": "code",
   "execution_count": null,
   "metadata": {},
   "outputs": [],
   "source": []
  },
  {
   "cell_type": "code",
   "execution_count": 58,
   "metadata": {},
   "outputs": [
    {
     "ename": "KeyError",
     "evalue": "\"['3D' '2D' 'General' 'Modern' 'Arcade' 'Compilation'] not found in axis\"",
     "output_type": "error",
     "traceback": [
      "\u001b[1;31m---------------------------------------------------------------------------\u001b[0m",
      "\u001b[1;31mKeyError\u001b[0m                                  Traceback (most recent call last)",
      "\u001b[1;32m<ipython-input-58-fc2271d4901f>\u001b[0m in \u001b[0;36m<module>\u001b[1;34m\u001b[0m\n\u001b[0;32m      7\u001b[0m \u001b[0mvsota\u001b[0m \u001b[1;33m=\u001b[0m \u001b[0mvsota\u001b[0m\u001b[1;33m/\u001b[0m\u001b[1;36m200\u001b[0m\u001b[1;33m\u001b[0m\u001b[1;33m\u001b[0m\u001b[0m\n\u001b[0;32m      8\u001b[0m \u001b[0mvsota\u001b[0m\u001b[1;33m[\u001b[0m\u001b[0mvsota\u001b[0m\u001b[1;33m>\u001b[0m\u001b[1;36m0.05\u001b[0m\u001b[1;33m]\u001b[0m\u001b[1;33m.\u001b[0m\u001b[0mdrop\u001b[0m\u001b[1;33m(\u001b[0m\u001b[0mlabels\u001b[0m\u001b[1;33m=\u001b[0m\u001b[1;33m[\u001b[0m\u001b[1;34m'3D'\u001b[0m\u001b[1;33m,\u001b[0m \u001b[1;34m'2D'\u001b[0m\u001b[1;33m,\u001b[0m \u001b[1;34m'General'\u001b[0m\u001b[1;33m,\u001b[0m \u001b[1;34m'Modern'\u001b[0m\u001b[1;33m]\u001b[0m\u001b[1;33m)\u001b[0m\u001b[1;33m.\u001b[0m\u001b[0mplot\u001b[0m\u001b[1;33m.\u001b[0m\u001b[0mbar\u001b[0m\u001b[1;33m(\u001b[0m\u001b[1;33m)\u001b[0m\u001b[1;33m\u001b[0m\u001b[1;33m\u001b[0m\u001b[0m\n\u001b[1;32m----> 9\u001b[1;33m \u001b[0mvsotaa\u001b[0m\u001b[1;33m.\u001b[0m\u001b[0mdrop\u001b[0m\u001b[1;33m(\u001b[0m\u001b[0mlabels\u001b[0m\u001b[1;33m=\u001b[0m\u001b[1;33m[\u001b[0m\u001b[1;34m'3D'\u001b[0m\u001b[1;33m,\u001b[0m \u001b[1;34m'2D'\u001b[0m\u001b[1;33m,\u001b[0m \u001b[1;34m'General'\u001b[0m\u001b[1;33m,\u001b[0m \u001b[1;34m'Modern'\u001b[0m\u001b[1;33m,\u001b[0m \u001b[1;34m'Arcade'\u001b[0m\u001b[1;33m,\u001b[0m \u001b[1;34m'Compilation'\u001b[0m\u001b[1;33m]\u001b[0m\u001b[1;33m)\u001b[0m\u001b[1;33m[\u001b[0m\u001b[0mind\u001b[0m\u001b[1;33m]\u001b[0m\u001b[1;33m.\u001b[0m\u001b[0mplot\u001b[0m\u001b[1;33m.\u001b[0m\u001b[0mbar\u001b[0m\u001b[1;33m(\u001b[0m\u001b[1;33m)\u001b[0m\u001b[1;33m\u001b[0m\u001b[1;33m\u001b[0m\u001b[0m\n\u001b[0m",
      "\u001b[1;32mc:\\users\\zankr\\appdata\\local\\programs\\python\\python37-32\\lib\\site-packages\\pandas\\core\\series.py\u001b[0m in \u001b[0;36mdrop\u001b[1;34m(self, labels, axis, index, columns, level, inplace, errors)\u001b[0m\n\u001b[0;32m   4321\u001b[0m             \u001b[0mlevel\u001b[0m\u001b[1;33m=\u001b[0m\u001b[0mlevel\u001b[0m\u001b[1;33m,\u001b[0m\u001b[1;33m\u001b[0m\u001b[1;33m\u001b[0m\u001b[0m\n\u001b[0;32m   4322\u001b[0m             \u001b[0minplace\u001b[0m\u001b[1;33m=\u001b[0m\u001b[0minplace\u001b[0m\u001b[1;33m,\u001b[0m\u001b[1;33m\u001b[0m\u001b[1;33m\u001b[0m\u001b[0m\n\u001b[1;32m-> 4323\u001b[1;33m             \u001b[0merrors\u001b[0m\u001b[1;33m=\u001b[0m\u001b[0merrors\u001b[0m\u001b[1;33m,\u001b[0m\u001b[1;33m\u001b[0m\u001b[1;33m\u001b[0m\u001b[0m\n\u001b[0m\u001b[0;32m   4324\u001b[0m         )\n\u001b[0;32m   4325\u001b[0m \u001b[1;33m\u001b[0m\u001b[0m\n",
      "\u001b[1;32mc:\\users\\zankr\\appdata\\local\\programs\\python\\python37-32\\lib\\site-packages\\pandas\\core\\generic.py\u001b[0m in \u001b[0;36mdrop\u001b[1;34m(self, labels, axis, index, columns, level, inplace, errors)\u001b[0m\n\u001b[0;32m   3912\u001b[0m         \u001b[1;32mfor\u001b[0m \u001b[0maxis\u001b[0m\u001b[1;33m,\u001b[0m \u001b[0mlabels\u001b[0m \u001b[1;32min\u001b[0m \u001b[0maxes\u001b[0m\u001b[1;33m.\u001b[0m\u001b[0mitems\u001b[0m\u001b[1;33m(\u001b[0m\u001b[1;33m)\u001b[0m\u001b[1;33m:\u001b[0m\u001b[1;33m\u001b[0m\u001b[1;33m\u001b[0m\u001b[0m\n\u001b[0;32m   3913\u001b[0m             \u001b[1;32mif\u001b[0m \u001b[0mlabels\u001b[0m \u001b[1;32mis\u001b[0m \u001b[1;32mnot\u001b[0m \u001b[1;32mNone\u001b[0m\u001b[1;33m:\u001b[0m\u001b[1;33m\u001b[0m\u001b[1;33m\u001b[0m\u001b[0m\n\u001b[1;32m-> 3914\u001b[1;33m                 \u001b[0mobj\u001b[0m \u001b[1;33m=\u001b[0m \u001b[0mobj\u001b[0m\u001b[1;33m.\u001b[0m\u001b[0m_drop_axis\u001b[0m\u001b[1;33m(\u001b[0m\u001b[0mlabels\u001b[0m\u001b[1;33m,\u001b[0m \u001b[0maxis\u001b[0m\u001b[1;33m,\u001b[0m \u001b[0mlevel\u001b[0m\u001b[1;33m=\u001b[0m\u001b[0mlevel\u001b[0m\u001b[1;33m,\u001b[0m \u001b[0merrors\u001b[0m\u001b[1;33m=\u001b[0m\u001b[0merrors\u001b[0m\u001b[1;33m)\u001b[0m\u001b[1;33m\u001b[0m\u001b[1;33m\u001b[0m\u001b[0m\n\u001b[0m\u001b[0;32m   3915\u001b[0m \u001b[1;33m\u001b[0m\u001b[0m\n\u001b[0;32m   3916\u001b[0m         \u001b[1;32mif\u001b[0m \u001b[0minplace\u001b[0m\u001b[1;33m:\u001b[0m\u001b[1;33m\u001b[0m\u001b[1;33m\u001b[0m\u001b[0m\n",
      "\u001b[1;32mc:\\users\\zankr\\appdata\\local\\programs\\python\\python37-32\\lib\\site-packages\\pandas\\core\\generic.py\u001b[0m in \u001b[0;36m_drop_axis\u001b[1;34m(self, labels, axis, level, errors)\u001b[0m\n\u001b[0;32m   3944\u001b[0m                 \u001b[0mnew_axis\u001b[0m \u001b[1;33m=\u001b[0m \u001b[0maxis\u001b[0m\u001b[1;33m.\u001b[0m\u001b[0mdrop\u001b[0m\u001b[1;33m(\u001b[0m\u001b[0mlabels\u001b[0m\u001b[1;33m,\u001b[0m \u001b[0mlevel\u001b[0m\u001b[1;33m=\u001b[0m\u001b[0mlevel\u001b[0m\u001b[1;33m,\u001b[0m \u001b[0merrors\u001b[0m\u001b[1;33m=\u001b[0m\u001b[0merrors\u001b[0m\u001b[1;33m)\u001b[0m\u001b[1;33m\u001b[0m\u001b[1;33m\u001b[0m\u001b[0m\n\u001b[0;32m   3945\u001b[0m             \u001b[1;32melse\u001b[0m\u001b[1;33m:\u001b[0m\u001b[1;33m\u001b[0m\u001b[1;33m\u001b[0m\u001b[0m\n\u001b[1;32m-> 3946\u001b[1;33m                 \u001b[0mnew_axis\u001b[0m \u001b[1;33m=\u001b[0m \u001b[0maxis\u001b[0m\u001b[1;33m.\u001b[0m\u001b[0mdrop\u001b[0m\u001b[1;33m(\u001b[0m\u001b[0mlabels\u001b[0m\u001b[1;33m,\u001b[0m \u001b[0merrors\u001b[0m\u001b[1;33m=\u001b[0m\u001b[0merrors\u001b[0m\u001b[1;33m)\u001b[0m\u001b[1;33m\u001b[0m\u001b[1;33m\u001b[0m\u001b[0m\n\u001b[0m\u001b[0;32m   3947\u001b[0m             \u001b[0mresult\u001b[0m \u001b[1;33m=\u001b[0m \u001b[0mself\u001b[0m\u001b[1;33m.\u001b[0m\u001b[0mreindex\u001b[0m\u001b[1;33m(\u001b[0m\u001b[1;33m**\u001b[0m\u001b[1;33m{\u001b[0m\u001b[0maxis_name\u001b[0m\u001b[1;33m:\u001b[0m \u001b[0mnew_axis\u001b[0m\u001b[1;33m}\u001b[0m\u001b[1;33m)\u001b[0m\u001b[1;33m\u001b[0m\u001b[1;33m\u001b[0m\u001b[0m\n\u001b[0;32m   3948\u001b[0m \u001b[1;33m\u001b[0m\u001b[0m\n",
      "\u001b[1;32mc:\\users\\zankr\\appdata\\local\\programs\\python\\python37-32\\lib\\site-packages\\pandas\\core\\indexes\\base.py\u001b[0m in \u001b[0;36mdrop\u001b[1;34m(self, labels, errors)\u001b[0m\n\u001b[0;32m   5338\u001b[0m         \u001b[1;32mif\u001b[0m \u001b[0mmask\u001b[0m\u001b[1;33m.\u001b[0m\u001b[0many\u001b[0m\u001b[1;33m(\u001b[0m\u001b[1;33m)\u001b[0m\u001b[1;33m:\u001b[0m\u001b[1;33m\u001b[0m\u001b[1;33m\u001b[0m\u001b[0m\n\u001b[0;32m   5339\u001b[0m             \u001b[1;32mif\u001b[0m \u001b[0merrors\u001b[0m \u001b[1;33m!=\u001b[0m \u001b[1;34m\"ignore\"\u001b[0m\u001b[1;33m:\u001b[0m\u001b[1;33m\u001b[0m\u001b[1;33m\u001b[0m\u001b[0m\n\u001b[1;32m-> 5340\u001b[1;33m                 \u001b[1;32mraise\u001b[0m \u001b[0mKeyError\u001b[0m\u001b[1;33m(\u001b[0m\u001b[1;34m\"{} not found in axis\"\u001b[0m\u001b[1;33m.\u001b[0m\u001b[0mformat\u001b[0m\u001b[1;33m(\u001b[0m\u001b[0mlabels\u001b[0m\u001b[1;33m[\u001b[0m\u001b[0mmask\u001b[0m\u001b[1;33m]\u001b[0m\u001b[1;33m)\u001b[0m\u001b[1;33m)\u001b[0m\u001b[1;33m\u001b[0m\u001b[1;33m\u001b[0m\u001b[0m\n\u001b[0m\u001b[0;32m   5341\u001b[0m             \u001b[0mindexer\u001b[0m \u001b[1;33m=\u001b[0m \u001b[0mindexer\u001b[0m\u001b[1;33m[\u001b[0m\u001b[1;33m~\u001b[0m\u001b[0mmask\u001b[0m\u001b[1;33m]\u001b[0m\u001b[1;33m\u001b[0m\u001b[1;33m\u001b[0m\u001b[0m\n\u001b[0;32m   5342\u001b[0m         \u001b[1;32mreturn\u001b[0m \u001b[0mself\u001b[0m\u001b[1;33m.\u001b[0m\u001b[0mdelete\u001b[0m\u001b[1;33m(\u001b[0m\u001b[0mindexer\u001b[0m\u001b[1;33m)\u001b[0m\u001b[1;33m\u001b[0m\u001b[1;33m\u001b[0m\u001b[0m\n",
      "\u001b[1;31mKeyError\u001b[0m: \"['3D' '2D' 'General' 'Modern' 'Arcade' 'Compilation'] not found in axis\""
     ]
    },
    {
     "data": {
      "image/png": "[encoded data removed]",
      "text/plain": [
       "<Figure size 432x288 with 1 Axes>"
      ]
     },
     "metadata": {
      "needs_background": "light"
     },
     "output_type": "display_data"
    }
   ],
   "source": [
    "top200 = igre[:200]\n",
    "top200\n",
    "\n",
    "vsota1 =  top200.groupby(['1.žanr']).size()\n",
    "vsota2 = top200.groupby(['2.žanr']).size()\n",
    "vsota = vsota2.add(vsota1, fill_value=0)\n",
    "vsota = vsota/200\n",
    "vsota[vsota>0.05].drop(labels=['3D', '2D', 'General', 'Modern']).plot.bar()\n",
    "vsotaa.drop(labels=['3D', '2D', 'General', 'Modern', 'Arcade', 'Compilation'])[ind].plot.bar()"
   ]
  },
  {
   "cell_type": "code",
   "execution_count": 59,
   "metadata": {},
   "outputs": [
    {
     "data": {
      "text/html": [
       "<div>\n",
       "<style scoped>\n",
       "    .dataframe tbody tr th:only-of-type {\n",
       "        vertical-align: middle;\n",
       "    }\n",
       "\n",
       "    .dataframe tbody tr th {\n",
       "        vertical-align: top;\n",
       "    }\n",
       "\n",
       "    .dataframe thead th {\n",
       "        text-align: right;\n",
       "    }\n",
       "</style>\n",
       "<table border=\"1\" class=\"dataframe\">\n",
       "  <thead>\n",
       "    <tr style=\"text-align: right;\">\n",
       "      <th></th>\n",
       "      <th>konzola</th>\n",
       "      <th>naslov</th>\n",
       "      <th>Datum_izdaje</th>\n",
       "      <th>povzetek</th>\n",
       "      <th>Metascore</th>\n",
       "      <th>Ocena_uporabnikov</th>\n",
       "      <th>ESBR</th>\n",
       "      <th>Založnik</th>\n",
       "      <th>1.žanr</th>\n",
       "      <th>2.žanr</th>\n",
       "      <th>Skupna ocena</th>\n",
       "      <th>Datum</th>\n",
       "    </tr>\n",
       "    <tr>\n",
       "      <th>stevilka</th>\n",
       "      <th></th>\n",
       "      <th></th>\n",
       "      <th></th>\n",
       "      <th></th>\n",
       "      <th></th>\n",
       "      <th></th>\n",
       "      <th></th>\n",
       "      <th></th>\n",
       "      <th></th>\n",
       "      <th></th>\n",
       "      <th></th>\n",
       "      <th></th>\n",
       "    </tr>\n",
       "  </thead>\n",
       "  <tbody>\n",
       "    <tr>\n",
       "      <td>109.0</td>\n",
       "      <td>Nintendo 64</td>\n",
       "      <td>Super Mario 64</td>\n",
       "      <td>September 26, 1996</td>\n",
       "      <td>Mario is super in a whole new way! Combining t...</td>\n",
       "      <td>93.0</td>\n",
       "      <td>9.4</td>\n",
       "      <td>E</td>\n",
       "      <td>Nintendo</td>\n",
       "      <td>Platformer</td>\n",
       "      <td>3D</td>\n",
       "      <td>187.0</td>\n",
       "      <td>1996-09-26</td>\n",
       "    </tr>\n",
       "    <tr>\n",
       "      <td>53.0</td>\n",
       "      <td>Nintendo 64</td>\n",
       "      <td>The Legend of Zelda: Majora's Mask</td>\n",
       "      <td>October 25, 2000</td>\n",
       "      <td>Thrown into a parallel world by the mischievou...</td>\n",
       "      <td>95.0</td>\n",
       "      <td>9.2</td>\n",
       "      <td>E</td>\n",
       "      <td>Nintendo</td>\n",
       "      <td>Action Adventure</td>\n",
       "      <td>Fantasy</td>\n",
       "      <td>187.0</td>\n",
       "      <td>2000-10-25</td>\n",
       "    </tr>\n",
       "    <tr>\n",
       "      <td>17.0</td>\n",
       "      <td>Playstation 4</td>\n",
       "      <td>Grand Theft Auto V</td>\n",
       "      <td>November 18, 2014</td>\n",
       "      <td>The sprawling sun-soaked metropolis of Los San...</td>\n",
       "      <td>97.0</td>\n",
       "      <td>9.2</td>\n",
       "      <td>M</td>\n",
       "      <td>Rockstar</td>\n",
       "      <td>Modern</td>\n",
       "      <td>Open-World</td>\n",
       "      <td>189.0</td>\n",
       "      <td>2014-11-18</td>\n",
       "    </tr>\n",
       "    <tr>\n",
       "      <td>8001.0</td>\n",
       "      <td>PC</td>\n",
       "      <td>Pathfinder: Kingmaker</td>\n",
       "      <td>September 25, 2018</td>\n",
       "      <td>Pathfinder: Kingmaker is the first isometric p...</td>\n",
       "      <td>73.0</td>\n",
       "      <td>9.2</td>\n",
       "      <td>NaN</td>\n",
       "      <td>Playtonic</td>\n",
       "      <td>Platformer</td>\n",
       "      <td>3D</td>\n",
       "      <td>165.0</td>\n",
       "      <td>2018-09-25</td>\n",
       "    </tr>\n",
       "    <tr>\n",
       "      <td>277.0</td>\n",
       "      <td>Wii U</td>\n",
       "      <td>Bayonetta 2</td>\n",
       "      <td>September 20, 2014</td>\n",
       "      <td>In this climatic sequel to the critically accl...</td>\n",
       "      <td>91.0</td>\n",
       "      <td>9.2</td>\n",
       "      <td>M</td>\n",
       "      <td>PlatinumGames</td>\n",
       "      <td>Fantasy</td>\n",
       "      <td>Linear</td>\n",
       "      <td>183.0</td>\n",
       "      <td>2014-09-20</td>\n",
       "    </tr>\n",
       "    <tr>\n",
       "      <td>...</td>\n",
       "      <td>...</td>\n",
       "      <td>...</td>\n",
       "      <td>...</td>\n",
       "      <td>...</td>\n",
       "      <td>...</td>\n",
       "      <td>...</td>\n",
       "      <td>...</td>\n",
       "      <td>...</td>\n",
       "      <td>...</td>\n",
       "      <td>...</td>\n",
       "      <td>...</td>\n",
       "      <td>...</td>\n",
       "    </tr>\n",
       "    <tr>\n",
       "      <td>9714.0</td>\n",
       "      <td>Nintendo DS</td>\n",
       "      <td>Mr. Driller: Drill Spirits</td>\n",
       "      <td>November 30, 2004</td>\n",
       "      <td>Master the art of drilling and take advantage ...</td>\n",
       "      <td>70.0</td>\n",
       "      <td>1.0</td>\n",
       "      <td>E</td>\n",
       "      <td>Nintendo</td>\n",
       "      <td>Puzzle</td>\n",
       "      <td>General</td>\n",
       "      <td>80.0</td>\n",
       "      <td>2004-11-30</td>\n",
       "    </tr>\n",
       "    <tr>\n",
       "      <td>4472.0</td>\n",
       "      <td>Playstation 3</td>\n",
       "      <td>NHL 2K7</td>\n",
       "      <td>November 13, 2006</td>\n",
       "      <td>Hundreds of new skating animations have been c...</td>\n",
       "      <td>79.0</td>\n",
       "      <td>0.9</td>\n",
       "      <td>E</td>\n",
       "      <td>EA</td>\n",
       "      <td>Soccer</td>\n",
       "      <td>Sim</td>\n",
       "      <td>88.0</td>\n",
       "      <td>2006-11-13</td>\n",
       "    </tr>\n",
       "    <tr>\n",
       "      <td>16282.0</td>\n",
       "      <td>Xbox 360</td>\n",
       "      <td>Mindjack</td>\n",
       "      <td>January 18, 2011</td>\n",
       "      <td>With this unique action shooter set in 2031, S...</td>\n",
       "      <td>43.0</td>\n",
       "      <td>0.8</td>\n",
       "      <td>T</td>\n",
       "      <td>M4</td>\n",
       "      <td>Platformer</td>\n",
       "      <td>2D</td>\n",
       "      <td>51.0</td>\n",
       "      <td>2011-01-18</td>\n",
       "    </tr>\n",
       "    <tr>\n",
       "      <td>5279.0</td>\n",
       "      <td>PC</td>\n",
       "      <td>Galactic Civilizations: Altarian Prophecy</td>\n",
       "      <td>November 12, 2004</td>\n",
       "      <td>Galactic Civilizations: Altarian Prophecy is a...</td>\n",
       "      <td>77.0</td>\n",
       "      <td>0.7</td>\n",
       "      <td>E</td>\n",
       "      <td>Visual</td>\n",
       "      <td>Basketball</td>\n",
       "      <td>Sim</td>\n",
       "      <td>84.0</td>\n",
       "      <td>2004-11-12</td>\n",
       "    </tr>\n",
       "    <tr>\n",
       "      <td>4140.0</td>\n",
       "      <td>Switch</td>\n",
       "      <td>Valfaris</td>\n",
       "      <td>October 10, 2019</td>\n",
       "      <td>Set in a far corner of space, Valfaris is a he...</td>\n",
       "      <td>80.0</td>\n",
       "      <td>0.7</td>\n",
       "      <td>E</td>\n",
       "      <td>Visual</td>\n",
       "      <td>Basketball</td>\n",
       "      <td>Sim</td>\n",
       "      <td>87.0</td>\n",
       "      <td>2019-10-10</td>\n",
       "    </tr>\n",
       "  </tbody>\n",
       "</table>\n",
       "<p>15219 rows × 12 columns</p>\n",
       "</div>"
      ],
      "text/plain": [
       "                konzola                                     naslov  \\\n",
       "stevilka                                                             \n",
       "109.0       Nintendo 64                             Super Mario 64   \n",
       "53.0        Nintendo 64         The Legend of Zelda: Majora's Mask   \n",
       "17.0      Playstation 4                         Grand Theft Auto V   \n",
       "8001.0               PC                      Pathfinder: Kingmaker   \n",
       "277.0             Wii U                                Bayonetta 2   \n",
       "...                 ...                                        ...   \n",
       "9714.0      Nintendo DS                 Mr. Driller: Drill Spirits   \n",
       "4472.0    Playstation 3                                    NHL 2K7   \n",
       "16282.0        Xbox 360                                   Mindjack   \n",
       "5279.0               PC  Galactic Civilizations: Altarian Prophecy   \n",
       "4140.0           Switch                                   Valfaris   \n",
       "\n",
       "                Datum_izdaje  \\\n",
       "stevilka                       \n",
       "109.0     September 26, 1996   \n",
       "53.0        October 25, 2000   \n",
       "17.0       November 18, 2014   \n",
       "8001.0    September 25, 2018   \n",
       "277.0     September 20, 2014   \n",
       "...                      ...   \n",
       "9714.0     November 30, 2004   \n",
       "4472.0     November 13, 2006   \n",
       "16282.0     January 18, 2011   \n",
       "5279.0     November 12, 2004   \n",
       "4140.0      October 10, 2019   \n",
       "\n",
       "                                                   povzetek  Metascore  \\\n",
       "stevilka                                                                 \n",
       "109.0     Mario is super in a whole new way! Combining t...       93.0   \n",
       "53.0      Thrown into a parallel world by the mischievou...       95.0   \n",
       "17.0      The sprawling sun-soaked metropolis of Los San...       97.0   \n",
       "8001.0    Pathfinder: Kingmaker is the first isometric p...       73.0   \n",
       "277.0     In this climatic sequel to the critically accl...       91.0   \n",
       "...                                                     ...        ...   \n",
       "9714.0    Master the art of drilling and take advantage ...       70.0   \n",
       "4472.0    Hundreds of new skating animations have been c...       79.0   \n",
       "16282.0   With this unique action shooter set in 2031, S...       43.0   \n",
       "5279.0    Galactic Civilizations: Altarian Prophecy is a...       77.0   \n",
       "4140.0    Set in a far corner of space, Valfaris is a he...       80.0   \n",
       "\n",
       "          Ocena_uporabnikov ESBR       Založnik            1.žanr      2.žanr  \\\n",
       "stevilka                                                                        \n",
       "109.0                   9.4    E       Nintendo        Platformer          3D   \n",
       "53.0                    9.2    E       Nintendo  Action Adventure     Fantasy   \n",
       "17.0                    9.2    M       Rockstar            Modern  Open-World   \n",
       "8001.0                  9.2  NaN      Playtonic        Platformer          3D   \n",
       "277.0                   9.2    M  PlatinumGames           Fantasy      Linear   \n",
       "...                     ...  ...            ...               ...         ...   \n",
       "9714.0                  1.0    E       Nintendo            Puzzle     General   \n",
       "4472.0                  0.9    E             EA            Soccer         Sim   \n",
       "16282.0                 0.8    T             M4        Platformer          2D   \n",
       "5279.0                  0.7    E         Visual        Basketball         Sim   \n",
       "4140.0                  0.7    E         Visual        Basketball         Sim   \n",
       "\n",
       "          Skupna ocena      Datum  \n",
       "stevilka                           \n",
       "109.0            187.0 1996-09-26  \n",
       "53.0             187.0 2000-10-25  \n",
       "17.0             189.0 2014-11-18  \n",
       "8001.0           165.0 2018-09-25  \n",
       "277.0            183.0 2014-09-20  \n",
       "...                ...        ...  \n",
       "9714.0            80.0 2004-11-30  \n",
       "4472.0            88.0 2006-11-13  \n",
       "16282.0           51.0 2011-01-18  \n",
       "5279.0            84.0 2004-11-12  \n",
       "4140.0            87.0 2019-10-10  \n",
       "\n",
       "[15219 rows x 12 columns]"
      ]
     },
     "execution_count": 59,
     "metadata": {},
     "output_type": "execute_result"
    }
   ],
   "source": [
    "igre.sort_values('Ocena_uporabnikov', ascending=False)"
   ]
  },
  {
   "cell_type": "code",
   "execution_count": 60,
   "metadata": {},
   "outputs": [
    {
     "data": {
      "text/plain": [
       "3610.3205204021287"
      ]
     },
     "execution_count": 60,
     "metadata": {},
     "output_type": "execute_result"
    }
   ],
   "source": [
    "igre['razlika']  =abs(igre.sort_values('Ocena_uporabnikov', ascending = False).index - igre.index)\n",
    "igre['razlika'].mean()"
   ]
  },
  {
   "cell_type": "code",
   "execution_count": 69,
   "metadata": {},
   "outputs": [],
   "source": [
    "def razlika (k):\n",
    "    return igre['razlika'][:k].mean()\n",
    "\n",
    "x = []\n",
    "y = []\n",
    "\n",
    "for k in range(0,16500):\n",
    "    x.append(k)\n",
    "    y.append(razlika(k))\n",
    "    "
   ]
  },
  {
   "cell_type": "code",
   "execution_count": 70,
   "metadata": {},
   "outputs": [
    {
     "data": {
      "text/plain": [
       "[<matplotlib.lines.Line2D at 0x19cc2030>]"
      ]
     },
     "execution_count": 70,
     "metadata": {},
     "output_type": "execute_result"
    },
    {
     "data": {
      "image/png": "[encoded data removed]",
      "text/plain": [
       "<Figure size 432x288 with 1 Axes>"
      ]
     },
     "metadata": {
      "needs_background": "light"
     },
     "output_type": "display_data"
    }
   ],
   "source": [
    "plt.plot(x,y)"
   ]
  },
  {
   "cell_type": "code",
   "execution_count": 64,
   "metadata": {},
   "outputs": [
    {
     "data": {
      "text/plain": [
       "<matplotlib.axes._subplots.AxesSubplot at 0x19d46850>"
      ]
     },
     "execution_count": 64,
     "metadata": {},
     "output_type": "execute_result"
    },
    {
     "data": {
      "image/png": "[encoded data removed]",
      "text/plain": [
       "<Figure size 432x288 with 1 Axes>"
      ]
     },
     "metadata": {},
     "output_type": "display_data"
    }
   ],
   "source": [
    "igre.groupby('konzola').size().plot.pie()"
   ]
  },
  {
   "cell_type": "code",
   "execution_count": null,
   "metadata": {},
   "outputs": [],
   "source": []
  }
 ],
 "metadata": {
  "kernelspec": {
   "display_name": "Python 3",
   "language": "python",
   "name": "python3"
  },
  "language_info": {
   "codemirror_mode": {
    "name": "ipython",
    "version": 3
   },
   "file_extension": ".py",
   "mimetype": "text/x-python",
   "name": "python",
   "nbconvert_exporter": "python",
   "pygments_lexer": "ipython3",
   "version": "3.7.4"
  }
 },
 "nbformat": 4,
 "nbformat_minor": 2
}
